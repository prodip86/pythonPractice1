{
 "cells": [
  {
   "cell_type": "markdown",
   "id": "39b1f3ff",
   "metadata": {},
   "source": [
    "## Start Python 11 Dec 2023\n"
   ]
  },
  {
   "cell_type": "markdown",
   "id": "eaee904c",
   "metadata": {},
   "source": [
    "if 5<8:\n",
    "    print(\"eight greater than five\")"
   ]
  },
  {
   "cell_type": "code",
   "execution_count": 1,
   "id": "7c1e89bb",
   "metadata": {},
   "outputs": [
    {
     "name": "stdout",
     "output_type": "stream",
     "text": [
      "this is comment\n"
     ]
    }
   ],
   "source": [
    "#commenting for single line\n",
    "\"\"\"\n",
    "this is multiple commenting system\n",
    "\n",
    "\"\"\"\n",
    "print(\"this is comment\")\n"
   ]
  },
  {
   "cell_type": "markdown",
   "id": "92d6c121",
   "metadata": {},
   "source": [
    "## Variables"
   ]
  },
  {
   "cell_type": "code",
   "execution_count": 2,
   "id": "ef0f5b0f",
   "metadata": {},
   "outputs": [
    {
     "name": "stdout",
     "output_type": "stream",
     "text": [
      "5\n",
      "Prodip\n"
     ]
    }
   ],
   "source": [
    "x=5              # this is an int\n",
    "y=\"Prodip\"       # this is a str\n",
    "print(x)\n",
    "print(y)\n"
   ]
  },
  {
   "cell_type": "code",
   "execution_count": 3,
   "id": "f9daba68",
   "metadata": {},
   "outputs": [
    {
     "name": "stdout",
     "output_type": "stream",
     "text": [
      "3\n",
      "3\n",
      "3.0\n"
     ]
    }
   ],
   "source": [
    "# How to casting \n",
    "\n",
    "x = str(3)    # x will be '3'\n",
    "y = int(3)    # y will be 3\n",
    "z = float(3)  # z will be 3.0\n",
    "print(x)\n",
    "print(y)\n",
    "print(z)"
   ]
  },
  {
   "cell_type": "code",
   "execution_count": 4,
   "id": "a0ebf6d4",
   "metadata": {},
   "outputs": [
    {
     "name": "stdout",
     "output_type": "stream",
     "text": [
      "<class 'str'>\n"
     ]
    }
   ],
   "source": [
    "#how to get variable type by type() function\n",
    "print(type(x))\n"
   ]
  },
  {
   "cell_type": "code",
   "execution_count": 5,
   "id": "33d0cf5e",
   "metadata": {},
   "outputs": [
    {
     "name": "stdout",
     "output_type": "stream",
     "text": [
      "4\n",
      "PKD\n"
     ]
    }
   ],
   "source": [
    "a=4\n",
    "A='PKD'\n",
    "print(a)\n",
    "print(A)"
   ]
  },
  {
   "cell_type": "markdown",
   "id": "7b27889d",
   "metadata": {},
   "source": [
    "### Variable labeling"
   ]
  },
  {
   "cell_type": "code",
   "execution_count": 6,
   "id": "461d3ef4",
   "metadata": {},
   "outputs": [],
   "source": [
    "#Camel case\n",
    "myVariable = 5\n",
    "\n",
    "#Pascal\n",
    "MyVariable = 5\n",
    "\n",
    "#snake \n",
    "my_variable = 5"
   ]
  },
  {
   "cell_type": "code",
   "execution_count": 7,
   "id": "a40ae23c",
   "metadata": {},
   "outputs": [
    {
     "name": "stdout",
     "output_type": "stream",
     "text": [
      "11\n",
      "22\n",
      "33\n",
      "prodip\n"
     ]
    }
   ],
   "source": [
    "#Many values to multiple variable\n",
    "a, b, c = 11, 22, 33\n",
    "\n",
    "print(a)\n",
    "print(b)\n",
    "print(c)\n",
    "\n",
    "#One Value to Multiple Variables\n",
    "a=b=c='prodip'\n",
    "print(b)\n"
   ]
  },
  {
   "cell_type": "code",
   "execution_count": 8,
   "id": "f8107755",
   "metadata": {},
   "outputs": [
    {
     "name": "stdout",
     "output_type": "stream",
     "text": [
      "apple\n",
      "banana\n",
      "lemon\n"
     ]
    }
   ],
   "source": [
    "#Unpack a list\n",
    "fruits = ['apple', 'banana', 'lemon']\n",
    "x, y, z = fruits\n",
    "print(x)\n",
    "print(y)\n",
    "print(z)"
   ]
  },
  {
   "cell_type": "code",
   "execution_count": 9,
   "id": "8621b7e3",
   "metadata": {},
   "outputs": [
    {
     "name": "stdout",
     "output_type": "stream",
     "text": [
      "Python is awesome\n",
      "Pythonisawesome\n",
      "Python is awesome\n"
     ]
    }
   ],
   "source": [
    "#Output Variables\n",
    "\n",
    "x = \"Python\"\n",
    "y = \"is\"\n",
    "z = \"awesome\"\n",
    "print(x, y, z)\n",
    "print(x + y + z)    #use + sign \n",
    "print(x +' '+ y+' '+ z)"
   ]
  },
  {
   "cell_type": "code",
   "execution_count": 10,
   "id": "e633d5c1",
   "metadata": {},
   "outputs": [
    {
     "name": "stdout",
     "output_type": "stream",
     "text": [
      "Python is fantastic\n",
      "Python is awesome\n"
     ]
    }
   ],
   "source": [
    "x = \"awesome\"\n",
    "\n",
    "def myfunc():\n",
    "  x = \"fantastic\"\n",
    "  print(\"Python is \" + x)\n",
    "\n",
    "myfunc()\n",
    "\n",
    "print(\"Python is \" + x)"
   ]
  },
  {
   "cell_type": "code",
   "execution_count": 11,
   "id": "a98155d0",
   "metadata": {},
   "outputs": [
    {
     "name": "stdout",
     "output_type": "stream",
     "text": [
      "Python is awesome\n"
     ]
    }
   ],
   "source": [
    "print(\"Python is \" + x)"
   ]
  },
  {
   "cell_type": "markdown",
   "id": "ae3aba5a",
   "metadata": {},
   "source": [
    "### Data Type\n"
   ]
  },
  {
   "cell_type": "code",
   "execution_count": 12,
   "id": "65e2c5df",
   "metadata": {},
   "outputs": [],
   "source": [
    "x = [\"apple\", \"banana\", \"cherry\"] #\tlist\t\n",
    "\n",
    "x = (\"apple\", \"banana\", \"cherry\") #\ttuple\t\n",
    "\n",
    "x = range(6)                      #\trange\t\n",
    "\n",
    "x = {\"name\" : \"John\", \"age\" : 36} #dict\t\n",
    "\n",
    "x = {\"apple\", \"banana\", \"cherry\"} #set\n",
    "\n",
    "x = frozenset({\"apple\", \"banana\", \"cherry\"}) #frozenset"
   ]
  },
  {
   "cell_type": "code",
   "execution_count": 13,
   "id": "a525da39",
   "metadata": {},
   "outputs": [
    {
     "name": "stdout",
     "output_type": "stream",
     "text": [
      "7\n"
     ]
    }
   ],
   "source": [
    "import random\n",
    "\n",
    "print(random.randrange(1, 10))"
   ]
  },
  {
   "cell_type": "code",
   "execution_count": 14,
   "id": "79eb56af",
   "metadata": {},
   "outputs": [
    {
     "name": "stdout",
     "output_type": "stream",
     "text": [
      "2\n",
      "1\n"
     ]
    }
   ],
   "source": [
    "x = 5\n",
    "y= x % 3        # x%3 Reminders/Bhagshes\n",
    "print(y)\n",
    "z = x //3       # x//=3 Resutls/Bhagfol\n",
    "print(z)\n",
    "x |= 3"
   ]
  },
  {
   "cell_type": "markdown",
   "id": "217bf5cd",
   "metadata": {},
   "source": [
    "### List\n"
   ]
  },
  {
   "cell_type": "code",
   "execution_count": 15,
   "id": "8c90fa9c",
   "metadata": {},
   "outputs": [
    {
     "name": "stdout",
     "output_type": "stream",
     "text": [
      "sizuki\n"
     ]
    }
   ],
   "source": [
    "myList = ['honda', 'yahama', 'sizuki']\n",
    "print(myList[-1])"
   ]
  },
  {
   "cell_type": "code",
   "execution_count": 16,
   "id": "b17e8361",
   "metadata": {},
   "outputs": [
    {
     "name": "stdout",
     "output_type": "stream",
     "text": [
      "['apple', 'banana', 'cherry', 'orange', 'kiwi', 'melon', 'mango']\n",
      "['apple', 'banana', 'cherry', 'orange', 'kiwi']\n",
      "['apple', 'banana']\n",
      "['cherry', 'orange', 'kiwi', 'melon', 'mango']\n",
      "['orange', 'kiwi', 'melon']\n"
     ]
    }
   ],
   "source": [
    "#Negative indexing means starting from the end of the list.\n",
    "#This example returns the items from index -4 (included) to index -1 (excluded)\n",
    "#Remember that the last item has the index -1\n",
    "#This will return the items from index 0 to index 4.\n",
    "#Remember that index 0 is the first item, and index 4 is the fifth item\n",
    "#Remember that the item in index 4 is NOT included\n",
    "\n",
    "thislist = [\"apple\", \"banana\", \"cherry\", \"orange\", \"kiwi\", \"melon\", \"mango\"]\n",
    "print(thislist[-7:])       \n",
    "print(thislist[:-2])\n",
    "print(thislist[:2])\n",
    "print(thislist[2:])\n",
    "print(thislist[-4:-1])    "
   ]
  },
  {
   "cell_type": "code",
   "execution_count": 17,
   "id": "4983f7dd",
   "metadata": {},
   "outputs": [
    {
     "name": "stdout",
     "output_type": "stream",
     "text": [
      "Yes, Raju is in the list\n"
     ]
    }
   ],
   "source": [
    "nameList = ['PKD', 'Raju', 'Sujan']\n",
    "if 'Raju' in nameList:\n",
    "    print('Yes, Raju is in the list')"
   ]
  },
  {
   "cell_type": "code",
   "execution_count": 18,
   "id": "f51d80e7",
   "metadata": {},
   "outputs": [
    {
     "name": "stdout",
     "output_type": "stream",
     "text": [
      "['PKD', 'Sajib', 'Sujan']\n"
     ]
    }
   ],
   "source": [
    "#Change List Items\n",
    "\n",
    "nameList = ['PKD', 'Raju', 'Sujan']\n",
    "nameList[1] = 'Sajib'\n",
    "print(nameList)"
   ]
  },
  {
   "cell_type": "code",
   "execution_count": 19,
   "id": "688d98bb",
   "metadata": {},
   "outputs": [
    {
     "name": "stdout",
     "output_type": "stream",
     "text": [
      "['PKD', 'Sajib', 'Mamu', 'Sujan']\n",
      "['PKD', 'Sajib', 'Mamu']\n"
     ]
    }
   ],
   "source": [
    "#If you insert less items than you replace, the new items will be inserted where you specified,\n",
    "#and the remaining items will move accordingly\n",
    "\n",
    "nameList = ['PKD', 'Raju', 'Sujan']\n",
    "nameList[1:2] = ['Sajib','Mamu']\n",
    "print(nameList)\n",
    "nameList[1:4] = ['Sajib','Mamu']\n",
    "print(nameList)"
   ]
  },
  {
   "cell_type": "code",
   "execution_count": 20,
   "id": "c89af66e",
   "metadata": {},
   "outputs": [
    {
     "name": "stdout",
     "output_type": "stream",
     "text": [
      "['PKD', 'Raju', 'Madhu', 'Sujan']\n",
      "['PKD', 'Raju', 'Sujan', 'Madhu']\n"
     ]
    }
   ],
   "source": [
    "#insertation \n",
    "nameList = ['PKD', 'Raju', 'Sujan']\n",
    "nameList.insert(2,'Madhu')\n",
    "print(nameList)\n",
    "\n",
    "#Append Items end of the list  #\n",
    "nameList = ['PKD', 'Raju', 'Sujan']\n",
    "nameList.append('Madhu')\n",
    "print(nameList)\n"
   ]
  },
  {
   "cell_type": "code",
   "execution_count": 21,
   "id": "f05f02b4",
   "metadata": {},
   "outputs": [
    {
     "name": "stdout",
     "output_type": "stream",
     "text": [
      "['PKD', 'Raju', 'Sujan', 'mango', 'pineapple', 'papaya']\n"
     ]
    }
   ],
   "source": [
    "#To add another list in a existing list the use extend\n",
    "\n",
    "nameList = ['PKD', 'Raju', 'Sujan']\n",
    "fruits = [\"mango\", \"pineapple\", \"papaya\"]\n",
    "nameList.extend(fruits)\n",
    "print(nameList)"
   ]
  },
  {
   "cell_type": "code",
   "execution_count": 22,
   "id": "6cac7c30",
   "metadata": {},
   "outputs": [
    {
     "name": "stdout",
     "output_type": "stream",
     "text": [
      "['Raju', 'Sujan']\n"
     ]
    }
   ],
   "source": [
    "#Remove Items from the list\n",
    "#pop() from any specific index\n",
    "\n",
    "nameList = ['PKD', 'Raju', 'Sujan']\n",
    "nameList.remove('PKD')\n",
    "print(nameList)"
   ]
  },
  {
   "cell_type": "code",
   "execution_count": 23,
   "id": "8b3041ff",
   "metadata": {},
   "outputs": [
    {
     "name": "stdout",
     "output_type": "stream",
     "text": [
      "Ford\n"
     ]
    }
   ],
   "source": [
    "thisdict = {\n",
    "  \"brand\": \"Ford\",\n",
    "  \"model\": \"Mustang\",\n",
    "  \"year\": 1964\n",
    "}\n",
    "print(thisdict[\"brand\"])"
   ]
  },
  {
   "cell_type": "code",
   "execution_count": 24,
   "id": "6ad64ed1",
   "metadata": {},
   "outputs": [
    {
     "name": "stdout",
     "output_type": "stream",
     "text": [
      "{'Name': 'pkd', 'Age': 37, 'occu': 'service'}\n"
     ]
    }
   ],
   "source": [
    "myDic = {\n",
    "    'Name' : 'pkd',\n",
    "    'Age' : 37,\n",
    "    'occu' : 'service'\n",
    "}\n",
    "print(myDic)"
   ]
  },
  {
   "cell_type": "code",
   "execution_count": 25,
   "id": "f2ae7927",
   "metadata": {},
   "outputs": [],
   "source": [
    "# importing panda and numpay libraries\n",
    "import pandas as pd \n",
    "import numpy as np"
   ]
  },
  {
   "cell_type": "code",
   "execution_count": 26,
   "id": "fe893aac",
   "metadata": {},
   "outputs": [],
   "source": [
    "exp=np.random.normal(250,150,10000)"
   ]
  },
  {
   "cell_type": "code",
   "execution_count": 27,
   "id": "6b957fa2",
   "metadata": {},
   "outputs": [
    {
     "data": {
      "text/plain": [
       "array([244.53692047, 233.99665619, 154.90172873, ..., 274.9877263 ,\n",
       "        46.33834121, 269.42397504])"
      ]
     },
     "execution_count": 27,
     "metadata": {},
     "output_type": "execute_result"
    }
   ],
   "source": [
    "exp"
   ]
  },
  {
   "cell_type": "code",
   "execution_count": 28,
   "id": "a0c18ca0",
   "metadata": {},
   "outputs": [
    {
     "data": {
      "text/plain": [
       "10000"
      ]
     },
     "execution_count": 28,
     "metadata": {},
     "output_type": "execute_result"
    }
   ],
   "source": [
    "len(exp)"
   ]
  },
  {
   "cell_type": "code",
   "execution_count": 29,
   "id": "0bce8764",
   "metadata": {},
   "outputs": [
    {
     "name": "stderr",
     "output_type": "stream",
     "text": [
      "C:\\Users\\Prodip\\AppData\\Local\\Temp\\ipykernel_20636\\1785628054.py:8: UserWarning: \n",
      "\n",
      "`distplot` is a deprecated function and will be removed in seaborn v0.14.0.\n",
      "\n",
      "Please adapt your code to use either `displot` (a figure-level function with\n",
      "similar flexibility) or `histplot` (an axes-level function for histograms).\n",
      "\n",
      "For a guide to updating your code to use the new functions, please see\n",
      "https://gist.github.com/mwaskom/de44147ed2974457ad6372750bbe5751\n",
      "\n",
      "  sb.distplot(exp)\n"
     ]
    },
    {
     "data": {
      "text/plain": [
       "<Axes: ylabel='Density'>"
      ]
     },
     "execution_count": 29,
     "metadata": {},
     "output_type": "execute_result"
    },
    {
     "data": {
      "image/png": "[encoded data removed]",
      "text/plain": [
       "<Figure size 640x480 with 1 Axes>"
      ]
     },
     "metadata": {},
     "output_type": "display_data"
    }
   ],
   "source": [
    "## plotting the randomly generated exp\n",
    "#import seaborn as sns\n",
    "#sns.distplot(exp)\n",
    "# or sns.histplot(exp)\n",
    "## plotting the randomlh genereted exp\n",
    "\n",
    "import seaborn as sb\n",
    "sb.distplot(exp)\n",
    "sb.histplot(exp)"
   ]
  },
  {
   "cell_type": "code",
   "execution_count": 30,
   "id": "52600c54",
   "metadata": {},
   "outputs": [
    {
     "data": {
      "text/plain": [
       "248.13297030171262"
      ]
     },
     "execution_count": 30,
     "metadata": {},
     "output_type": "execute_result"
    }
   ],
   "source": [
    "#calcualte mean\n",
    "np.mean(exp)"
   ]
  },
  {
   "cell_type": "code",
   "execution_count": 31,
   "id": "1e440c21",
   "metadata": {},
   "outputs": [
    {
     "data": {
      "text/plain": [
       "248.8033482383517"
      ]
     },
     "execution_count": 31,
     "metadata": {},
     "output_type": "execute_result"
    }
   ],
   "source": [
    "np.median(exp)"
   ]
  },
  {
   "cell_type": "code",
   "execution_count": 32,
   "id": "a45750e3",
   "metadata": {},
   "outputs": [],
   "source": [
    "exp1=np.append(exp,[3000])"
   ]
  },
  {
   "cell_type": "code",
   "execution_count": 33,
   "id": "303cdc9c",
   "metadata": {},
   "outputs": [
    {
     "data": {
      "text/plain": [
       "array([ 244.53692047,  233.99665619,  154.90172873, ...,   46.33834121,\n",
       "        269.42397504, 3000.        ])"
      ]
     },
     "execution_count": 33,
     "metadata": {},
     "output_type": "execute_result"
    }
   ],
   "source": [
    "exp1"
   ]
  },
  {
   "cell_type": "code",
   "execution_count": 34,
   "id": "bd4d07a8",
   "metadata": {},
   "outputs": [
    {
     "data": {
      "text/plain": [
       "<Axes: ylabel='Count'>"
      ]
     },
     "execution_count": 34,
     "metadata": {},
     "output_type": "execute_result"
    },
    {
     "data": {
      "image/png": "[encoded data removed]",
      "text/plain": [
       "<Figure size 640x480 with 1 Axes>"
      ]
     },
     "metadata": {},
     "output_type": "display_data"
    }
   ],
   "source": [
    "sb.histplot(exp1)"
   ]
  },
  {
   "cell_type": "code",
   "execution_count": 35,
   "id": "db9f2060",
   "metadata": {},
   "outputs": [],
   "source": [
    "# generates 200random integer nyumbers between 15-50\n",
    "#exp=np.random.randint(15,50,200) #(start,stop,num of values)\n",
    "exp2=np.random.randint(20,30,5000)"
   ]
  },
  {
   "cell_type": "code",
   "execution_count": 36,
   "id": "2a00f99e",
   "metadata": {},
   "outputs": [
    {
     "data": {
      "text/plain": [
       "5000"
      ]
     },
     "execution_count": 36,
     "metadata": {},
     "output_type": "execute_result"
    }
   ],
   "source": [
    "len(exp2)"
   ]
  },
  {
   "cell_type": "code",
   "execution_count": 37,
   "id": "38470dd9",
   "metadata": {},
   "outputs": [
    {
     "data": {
      "text/plain": [
       "array([22, 25, 27, ..., 27, 29, 26])"
      ]
     },
     "execution_count": 37,
     "metadata": {},
     "output_type": "execute_result"
    }
   ],
   "source": [
    "exp2\n"
   ]
  },
  {
   "cell_type": "code",
   "execution_count": 38,
   "id": "7966a66d",
   "metadata": {},
   "outputs": [
    {
     "name": "stderr",
     "output_type": "stream",
     "text": [
      "C:\\Users\\Prodip\\AppData\\Local\\Temp\\ipykernel_20636\\2789308155.py:2: UserWarning: \n",
      "\n",
      "`distplot` is a deprecated function and will be removed in seaborn v0.14.0.\n",
      "\n",
      "Please adapt your code to use either `displot` (a figure-level function with\n",
      "similar flexibility) or `histplot` (an axes-level function for histograms).\n",
      "\n",
      "For a guide to updating your code to use the new functions, please see\n",
      "https://gist.github.com/mwaskom/de44147ed2974457ad6372750bbe5751\n",
      "\n",
      "  sb.distplot(exp2)\n"
     ]
    },
    {
     "data": {
      "text/plain": [
       "<Axes: ylabel='Count'>"
      ]
     },
     "execution_count": 38,
     "metadata": {},
     "output_type": "execute_result"
    },
    {
     "data": {
      "image/png": "[encoded data removed]",
      "text/plain": [
       "<Figure size 640x480 with 1 Axes>"
      ]
     },
     "metadata": {},
     "output_type": "display_data"
    }
   ],
   "source": [
    "sb.histplot(exp2)\n",
    "sb.distplot(exp2)"
   ]
  },
  {
   "cell_type": "code",
   "execution_count": 39,
   "id": "8f324da7",
   "metadata": {},
   "outputs": [],
   "source": [
    "from scipy import stats"
   ]
  },
  {
   "cell_type": "code",
   "execution_count": 40,
   "id": "13f8e1a4",
   "metadata": {},
   "outputs": [
    {
     "data": {
      "text/plain": [
       "ModeResult(mode=21, count=533)"
      ]
     },
     "execution_count": 40,
     "metadata": {},
     "output_type": "execute_result"
    }
   ],
   "source": [
    "stats.mode(exp2)"
   ]
  },
  {
   "cell_type": "code",
   "execution_count": 41,
   "id": "975b13dd",
   "metadata": {},
   "outputs": [],
   "source": [
    "## calculating IQR\n",
    "\n",
    "data=[346,47,56,2,36,39,75,79,79,88,89,91,92,93,96,97,101,105,112,115]"
   ]
  },
  {
   "cell_type": "code",
   "execution_count": 42,
   "id": "9a1c407f",
   "metadata": {},
   "outputs": [],
   "source": [
    "IQR=stats.iqr(data,interpolation='midpoint')"
   ]
  },
  {
   "cell_type": "code",
   "execution_count": 43,
   "id": "548c8709",
   "metadata": {},
   "outputs": [
    {
     "data": {
      "text/plain": [
       "33.5"
      ]
     },
     "execution_count": 43,
     "metadata": {},
     "output_type": "execute_result"
    }
   ],
   "source": [
    "IQR"
   ]
  },
  {
   "cell_type": "code",
   "execution_count": 44,
   "id": "2a9a5fae",
   "metadata": {},
   "outputs": [
    {
     "name": "stdout",
     "output_type": "stream",
     "text": [
      "maximun=5, minimum = 1, range = 4\n"
     ]
    }
   ],
   "source": [
    "# Sample Data \n",
    "arr = [1, 2, 3, 4, 5]\n",
    "\n",
    "#Finding Max \n",
    "Maximum = max(arr)\n",
    "# Finding Min \n",
    "Minimum = min(arr) \n",
    "\n",
    "# Difference Of Max and Min\n",
    "Range = Maximum-Minimum\n",
    "#print(\"Maximum = {}, Minimum = {} and Range = {}\".format(Minimum, Maximum,  Range))\n",
    "print('maximun={}, minimum = {}, range = {}'.format(Maximum,Minimum,Range))"
   ]
  },
  {
   "cell_type": "code",
   "execution_count": 45,
   "id": "226bf527",
   "metadata": {},
   "outputs": [
    {
     "ename": "ValueError",
     "evalue": "invalid literal for int() with base 10: 'enter number: '",
     "output_type": "error",
     "traceback": [
      "\u001b[1;31m---------------------------------------------------------------------------\u001b[0m",
      "\u001b[1;31mValueError\u001b[0m                                Traceback (most recent call last)",
      "Cell \u001b[1;32mIn[45], line 2\u001b[0m\n\u001b[0;32m      1\u001b[0m \u001b[38;5;66;03m#User input to Number\u001b[39;00m\n\u001b[1;32m----> 2\u001b[0m a\u001b[38;5;241m=\u001b[39m\u001b[38;5;28minput\u001b[39m(\u001b[38;5;28mint\u001b[39m(\u001b[38;5;124m'\u001b[39m\u001b[38;5;124menter number: \u001b[39m\u001b[38;5;124m'\u001b[39m))\n",
      "\u001b[1;31mValueError\u001b[0m: invalid literal for int() with base 10: 'enter number: '"
     ]
    }
   ],
   "source": [
    "#User input to Number\n",
    "a=input(int('enter number: '))"
   ]
  },
  {
   "cell_type": "code",
   "execution_count": null,
   "id": "7031da83",
   "metadata": {},
   "outputs": [],
   "source": [
    "int_text = input(\"Give me an integer number: \")\n",
    "int_num = int(int_text)\n",
    "float_text = input(\"Give me a float  number: \")\n",
    "float_num = float(float_text)\n",
    "result = int_num * float_num\n",
    "print(\"Your result is: \", result)"
   ]
  },
  {
   "cell_type": "code",
   "execution_count": null,
   "id": "4f1009ac",
   "metadata": {},
   "outputs": [],
   "source": [
    "# Write a Python program to print \"Hello, World!\n",
    "text='Hello World'\n",
    "\n",
    "print(text2)"
   ]
  },
  {
   "cell_type": "code",
   "execution_count": null,
   "id": "726b1fe5",
   "metadata": {},
   "outputs": [],
   "source": [
    "# Calculate the sum of two numbers entered by the user\n",
    "num1=int(input('enter your 1st no.: '))\n",
    "num2=int(input('enter your 2nd no.: '))\n",
    "add=num1+num2\n",
    "#print('The sum of {} and {} is {}'.format(num1, num2,add))\n",
    "#print('sum of two number is', add)\n",
    "#print('the sum of two numner is', num1+num2)\n",
    "#add"
   ]
  },
  {
   "cell_type": "code",
   "execution_count": null,
   "id": "da15cd70",
   "metadata": {},
   "outputs": [],
   "source": [
    "# Convert temperature from Celsius to Fahrenheit\n",
    "ctemp=int(input('Enter tempature in celsius:' ))\n",
    "ftemp= ctemp*(9/5)+32       #calculation 1\n",
    "ftemp = (ctemp*(5/9))+32    #calculation 2 \n",
    "print('Convert temperature from {} Celsius to Fahrenheit is {}'.format(ctemp, ftemp))"
   ]
  },
  {
   "cell_type": "code",
   "execution_count": null,
   "id": "b3103f1a",
   "metadata": {},
   "outputs": [],
   "source": [
    "# Create a program that takes a user's name and age as input and prints a greeting message\n",
    "name=input('Enter your Name: ')\n",
    "age=int(input('Enter your age: '))\n",
    "#print('Hello, My name is {} and I am {} years old'.format(name, age))\n",
    "\n",
    "print(f'\"Hello, My name is {name} and I am {age} years old')\n",
    "\n",
    "#print(f'\"{input_string}\" is a palindrome.')"
   ]
  },
  {
   "cell_type": "code",
   "execution_count": null,
   "id": "71ca7dd5",
   "metadata": {},
   "outputs": [],
   "source": [
    "# find out minimum number\n",
    "a = []\n",
    "size = int(input('Enter array size: '))\n",
    "\n",
    "for i in range(size):\n",
    "    val = int(input('Enter array values: '))\n",
    "    a.append(val)\n",
    "\n",
    "min_value = a[0]\n",
    "\n",
    "for i in range(size):\n",
    "    if a[i] < min_value:\n",
    "        min_value = a[i]\n",
    "\n",
    "print('Minimum number:', min_value)"
   ]
  },
  {
   "cell_type": "code",
   "execution_count": null,
   "id": "d5969187",
   "metadata": {},
   "outputs": [],
   "source": [
    "a = [3,6,1,-4,5,8]\n",
    "\n",
    "min_value = a[0]\n",
    "\n",
    "for i in range(size):\n",
    "    if a[i] < min_value:\n",
    "        min_value = a[i]\n",
    "\n",
    "print('Minimum number:', min_value)"
   ]
  },
  {
   "cell_type": "code",
   "execution_count": null,
   "id": "8d265ab9",
   "metadata": {},
   "outputs": [],
   "source": [
    "a = [3,77,1,5,80]\n",
    "\n",
    "min_value = a[0]\n",
    "\n",
    "for i in range(size):\n",
    "    if a[i] > min_value:\n",
    "        min_value = a[i]\n",
    "\n",
    "print('Max number:', min_value)"
   ]
  },
  {
   "cell_type": "code",
   "execution_count": null,
   "id": "6cc38797",
   "metadata": {},
   "outputs": [],
   "source": [
    "# Given a list of numbers, find the maximum and minimum values\n",
    "List = [90, -1, 10, 24, 78, 34, 56, 70, 26, 0]\n",
    "count = max = min = 0  #Variable Initialization\n",
    "\n",
    "for i in List:         #Loop through the List:\n",
    "    count += 1\n",
    "    if count == 1:\n",
    "        max = min = i\n",
    "    else:\n",
    "        if i > max:\n",
    "            max = i\n",
    "        if i < min:\n",
    "            min = i\n",
    "\n",
    "print(\"Maximum number from this list is\", max)\n",
    "print(\"Minimum number from this list is\", min)"
   ]
  },
  {
   "cell_type": "code",
   "execution_count": null,
   "id": "960d23e8",
   "metadata": {},
   "outputs": [],
   "source": [
    "# Create a Python function to check if a given string is a palindrome\n",
    "text = input(\"the text is inputed here\" )\n",
    "if (text==text[::-1]):\n",
    "    \n",
    "    print(text,'the text is palindrome')\n",
    "    \n",
    "else:\n",
    "    print('the text {} is not palindrome'.format(text))       \n"
   ]
  },
  {
   "cell_type": "code",
   "execution_count": null,
   "id": "690b61b0",
   "metadata": {},
   "outputs": [],
   "source": [
    "def is_palindrome(input_str):\n",
    "    \n",
    "    cleaned_str = input_str.replace(\" \", \"\").lower() # Remove spaces and convert to lowercase for case-insensitive comparison\n",
    "    \n",
    "    return cleaned_str == cleaned_str[::-1]          # Check if the cleaned string is equal to its reverse\n",
    "\n",
    "# Example usage:\n",
    "input_string = \"A man a plan a canal Panama\"\n",
    "result = is_palindrome(input_string)\n",
    "\n",
    "if result:\n",
    "    print(f'\"{input_string}\" is a palindrome.')\n",
    "else:\n",
    "    print(f'\"{input_string}\" is not a palindrome.')\n"
   ]
  },
  {
   "cell_type": "code",
   "execution_count": null,
   "id": "d3579b8d",
   "metadata": {},
   "outputs": [],
   "source": [
    "def is_palindrom(text):\n",
    "    clear_text = text.replace(\" \", \"\").upper()\n",
    "    return clear_text == clear_text[::-1]\n",
    "\n",
    "\n",
    "text = input(\"Write the palindrom name: \")\n",
    "\n",
    "if is_palindrom(text):\n",
    "    print(\"Palindrom\")\n",
    "else:\n",
    "    print(\"not Palindrom\")"
   ]
  },
  {
   "cell_type": "code",
   "execution_count": null,
   "id": "136b0737",
   "metadata": {},
   "outputs": [],
   "source": [
    "# Create a Python function to check if a given string is a palindrome\n",
    "\n",
    "def is_palindrome(text):\n",
    "   # clear_text = text.replace(\" \", \"\").lower()\n",
    "    return text == text[::-1]\n",
    "\n",
    "text = input(\"Write the palindrome name: \")\n",
    "\n",
    "if is_palindrome(text):\n",
    "    print(\"Palindrome\")\n",
    "else:\n",
    "    print(\"Not Palindrome\")"
   ]
  },
  {
   "cell_type": "code",
   "execution_count": 1,
   "id": "c094f9d1",
   "metadata": {},
   "outputs": [
    {
     "name": "stdout",
     "output_type": "stream",
     "text": [
      "Collecting jupyter_contrib_nbextensionsNote: you may need to restart the kernel to use updated packages.\n",
      "\n",
      "  Downloading jupyter_contrib_nbextensions-0.7.0.tar.gz (23.5 MB)\n",
      "     ---------------------------------------- 0.0/23.5 MB ? eta -:--:--\n",
      "     ---------------------------------------- 0.0/23.5 MB ? eta -:--:--\n",
      "     ---------------------------------------- 0.0/23.5 MB ? eta -:--:--\n",
      "     --------------------------------------- 0.0/23.5 MB 330.3 kB/s eta 0:01:11\n",
      "     --------------------------------------- 0.1/23.5 MB 363.1 kB/s eta 0:01:05\n",
      "     --------------------------------------- 0.1/23.5 MB 438.1 kB/s eta 0:00:54\n",
      "     --------------------------------------- 0.1/23.5 MB 568.9 kB/s eta 0:00:41\n",
      "     --------------------------------------- 0.2/23.5 MB 692.4 kB/s eta 0:00:34\n",
      "     --------------------------------------- 0.3/23.5 MB 811.7 kB/s eta 0:00:29\n",
      "      -------------------------------------- 0.3/23.5 MB 846.5 kB/s eta 0:00:28\n",
      "      -------------------------------------- 0.4/23.5 MB 897.8 kB/s eta 0:00:26\n",
      "      --------------------------------------- 0.6/23.5 MB 1.2 MB/s eta 0:00:19\n",
      "     - -------------------------------------- 0.8/23.5 MB 1.4 MB/s eta 0:00:16\n",
      "     - -------------------------------------- 0.8/23.5 MB 1.5 MB/s eta 0:00:15\n",
      "     - -------------------------------------- 0.8/23.5 MB 1.5 MB/s eta 0:00:15\n",
      "     - -------------------------------------- 0.8/23.5 MB 1.5 MB/s eta 0:00:15\n",
      "     - -------------------------------------- 0.8/23.5 MB 1.5 MB/s eta 0:00:15\n",
      "     - -------------------------------------- 0.8/23.5 MB 1.5 MB/s eta 0:00:15\n",
      "     - -------------------------------------- 0.8/23.5 MB 1.5 MB/s eta 0:00:15\n",
      "     - -------------------------------------- 0.8/23.5 MB 1.5 MB/s eta 0:00:15\n",
      "     - -------------------------------------- 0.8/23.5 MB 1.5 MB/s eta 0:00:15\n",
      "     - -------------------------------------- 0.8/23.5 MB 1.5 MB/s eta 0:00:15\n",
      "     - -------------------------------------- 0.8/23.5 MB 1.5 MB/s eta 0:00:15\n",
      "     - -------------------------------------- 0.8/23.5 MB 1.5 MB/s eta 0:00:15\n",
      "     - -------------------------------------- 0.8/23.5 MB 1.5 MB/s eta 0:00:15\n",
      "     - -------------------------------------- 0.8/23.5 MB 1.5 MB/s eta 0:00:15\n",
      "     - ------------------------------------- 0.9/23.5 MB 733.9 kB/s eta 0:00:31\n",
      "     --- ------------------------------------ 2.0/23.5 MB 1.7 MB/s eta 0:00:13\n",
      "     --- ------------------------------------ 2.1/23.5 MB 1.7 MB/s eta 0:00:13\n",
      "     --- ------------------------------------ 2.2/23.5 MB 1.7 MB/s eta 0:00:13\n",
      "     --- ------------------------------------ 2.3/23.5 MB 1.7 MB/s eta 0:00:13\n",
      "     ---- ----------------------------------- 2.4/23.5 MB 1.7 MB/s eta 0:00:13\n",
      "     ---- ----------------------------------- 2.5/23.5 MB 1.7 MB/s eta 0:00:13\n",
      "     ---- ----------------------------------- 2.5/23.5 MB 1.7 MB/s eta 0:00:13\n",
      "     ---- ----------------------------------- 2.6/23.5 MB 1.7 MB/s eta 0:00:13\n",
      "     ---- ----------------------------------- 2.7/23.5 MB 1.7 MB/s eta 0:00:13\n",
      "     ---- ----------------------------------- 2.8/23.5 MB 1.7 MB/s eta 0:00:13\n",
      "     ---- ----------------------------------- 2.9/23.5 MB 1.7 MB/s eta 0:00:13\n",
      "     ----- ---------------------------------- 3.0/23.5 MB 1.7 MB/s eta 0:00:13\n",
      "     ----- ---------------------------------- 3.1/23.5 MB 1.7 MB/s eta 0:00:12\n",
      "     ----- ---------------------------------- 3.1/23.5 MB 1.7 MB/s eta 0:00:12\n",
      "     ----- ---------------------------------- 3.2/23.5 MB 1.7 MB/s eta 0:00:12\n",
      "     ----- ---------------------------------- 3.3/23.5 MB 1.7 MB/s eta 0:00:12\n",
      "     ----- ---------------------------------- 3.4/23.5 MB 1.7 MB/s eta 0:00:12\n",
      "     ----- ---------------------------------- 3.5/23.5 MB 1.7 MB/s eta 0:00:12\n",
      "     ------ --------------------------------- 3.6/23.5 MB 1.7 MB/s eta 0:00:12\n",
      "     ------ --------------------------------- 3.7/23.5 MB 1.7 MB/s eta 0:00:12\n",
      "     ------ --------------------------------- 3.7/23.5 MB 1.7 MB/s eta 0:00:12\n",
      "     ------ --------------------------------- 3.8/23.5 MB 1.7 MB/s eta 0:00:12\n",
      "     ------ --------------------------------- 3.9/23.5 MB 1.7 MB/s eta 0:00:12\n",
      "     ------ --------------------------------- 4.0/23.5 MB 1.7 MB/s eta 0:00:12\n",
      "     ------ --------------------------------- 4.1/23.5 MB 1.7 MB/s eta 0:00:12\n",
      "     ------- -------------------------------- 4.2/23.5 MB 1.7 MB/s eta 0:00:12\n",
      "     ------- -------------------------------- 4.3/23.5 MB 1.8 MB/s eta 0:00:11\n",
      "     ------- -------------------------------- 4.3/23.5 MB 1.8 MB/s eta 0:00:11\n",
      "     ------- -------------------------------- 4.4/23.5 MB 1.8 MB/s eta 0:00:11\n",
      "     ------- -------------------------------- 4.5/23.5 MB 1.8 MB/s eta 0:00:11\n",
      "     ------- -------------------------------- 4.6/23.5 MB 1.8 MB/s eta 0:00:11\n",
      "     ------- -------------------------------- 4.7/23.5 MB 1.8 MB/s eta 0:00:11\n",
      "     -------- ------------------------------- 4.8/23.5 MB 1.8 MB/s eta 0:00:11\n",
      "     -------- ------------------------------- 4.8/23.5 MB 1.8 MB/s eta 0:00:11\n",
      "     -------- ------------------------------- 4.9/23.5 MB 1.8 MB/s eta 0:00:11\n",
      "     -------- ------------------------------- 5.0/23.5 MB 1.8 MB/s eta 0:00:11\n",
      "     -------- ------------------------------- 5.1/23.5 MB 1.8 MB/s eta 0:00:11\n",
      "     -------- ------------------------------- 5.2/23.5 MB 1.8 MB/s eta 0:00:11\n",
      "     -------- ------------------------------- 5.3/23.5 MB 1.8 MB/s eta 0:00:11\n",
      "     --------- ------------------------------ 5.4/23.5 MB 1.8 MB/s eta 0:00:11\n",
      "     --------- ------------------------------ 5.4/23.5 MB 1.8 MB/s eta 0:00:11\n",
      "     --------- ------------------------------ 5.5/23.5 MB 1.8 MB/s eta 0:00:11\n",
      "     --------- ------------------------------ 5.6/23.5 MB 1.8 MB/s eta 0:00:11\n",
      "     --------- ------------------------------ 5.7/23.5 MB 1.8 MB/s eta 0:00:11\n",
      "     --------- ------------------------------ 5.8/23.5 MB 1.8 MB/s eta 0:00:10\n",
      "     ---------- ----------------------------- 5.9/23.5 MB 1.8 MB/s eta 0:00:10\n",
      "     ---------- ----------------------------- 6.0/23.5 MB 1.8 MB/s eta 0:00:10\n",
      "     ---------- ----------------------------- 6.0/23.5 MB 1.8 MB/s eta 0:00:10\n",
      "     ---------- ----------------------------- 6.1/23.5 MB 1.8 MB/s eta 0:00:10\n",
      "     ---------- ----------------------------- 6.2/23.5 MB 1.8 MB/s eta 0:00:10\n",
      "     ---------- ----------------------------- 6.3/23.5 MB 1.8 MB/s eta 0:00:10\n",
      "     ---------- ----------------------------- 6.4/23.5 MB 1.8 MB/s eta 0:00:10\n",
      "     ----------- ---------------------------- 6.5/23.5 MB 1.8 MB/s eta 0:00:10\n",
      "     ----------- ---------------------------- 6.5/23.5 MB 1.8 MB/s eta 0:00:10\n",
      "     ----------- ---------------------------- 6.6/23.5 MB 1.8 MB/s eta 0:00:10\n",
      "     ----------- ---------------------------- 6.7/23.5 MB 1.8 MB/s eta 0:00:10\n",
      "     ----------- ---------------------------- 6.8/23.5 MB 1.8 MB/s eta 0:00:10\n",
      "     ----------- ---------------------------- 6.9/23.5 MB 1.8 MB/s eta 0:00:10\n",
      "     ----------- ---------------------------- 7.0/23.5 MB 1.8 MB/s eta 0:00:10\n",
      "     ------------ --------------------------- 7.0/23.5 MB 1.8 MB/s eta 0:00:10\n",
      "     ------------ --------------------------- 7.1/23.5 MB 1.8 MB/s eta 0:00:10\n",
      "     ------------ --------------------------- 7.2/23.5 MB 1.8 MB/s eta 0:00:10\n",
      "     ------------ --------------------------- 7.3/23.5 MB 1.8 MB/s eta 0:00:10\n",
      "     ------------ --------------------------- 7.4/23.5 MB 1.8 MB/s eta 0:00:10\n",
      "     ------------ --------------------------- 7.5/23.5 MB 1.8 MB/s eta 0:00:09\n",
      "     ------------ --------------------------- 7.5/23.5 MB 1.8 MB/s eta 0:00:09\n",
      "     ------------- -------------------------- 7.6/23.5 MB 1.8 MB/s eta 0:00:09\n",
      "     ------------- -------------------------- 7.7/23.5 MB 1.8 MB/s eta 0:00:09\n",
      "     ------------- -------------------------- 7.8/23.5 MB 1.8 MB/s eta 0:00:09\n",
      "     ------------- -------------------------- 7.9/23.5 MB 1.8 MB/s eta 0:00:09\n",
      "     ------------- -------------------------- 8.0/23.5 MB 1.8 MB/s eta 0:00:09\n",
      "     ------------- -------------------------- 8.1/23.5 MB 1.8 MB/s eta 0:00:09\n",
      "     ------------- -------------------------- 8.2/23.5 MB 1.8 MB/s eta 0:00:09\n",
      "     -------------- ------------------------- 8.2/23.5 MB 1.8 MB/s eta 0:00:09\n",
      "     -------------- ------------------------- 8.3/23.5 MB 1.8 MB/s eta 0:00:09\n",
      "     -------------- ------------------------- 8.4/23.5 MB 1.8 MB/s eta 0:00:09\n",
      "     -------------- ------------------------- 8.5/23.5 MB 1.8 MB/s eta 0:00:09\n",
      "     -------------- ------------------------- 8.6/23.5 MB 1.8 MB/s eta 0:00:09\n",
      "     -------------- ------------------------- 8.7/23.5 MB 1.8 MB/s eta 0:00:09\n",
      "     -------------- ------------------------- 8.7/23.5 MB 1.8 MB/s eta 0:00:09\n",
      "     --------------- ------------------------ 8.8/23.5 MB 1.8 MB/s eta 0:00:09\n",
      "     --------------- ------------------------ 8.9/23.5 MB 1.8 MB/s eta 0:00:09\n",
      "     --------------- ------------------------ 9.0/23.5 MB 1.8 MB/s eta 0:00:09\n",
      "     --------------- ------------------------ 9.1/23.5 MB 1.8 MB/s eta 0:00:09\n",
      "     --------------- ------------------------ 9.2/23.5 MB 1.8 MB/s eta 0:00:08\n",
      "     --------------- ------------------------ 9.2/23.5 MB 1.8 MB/s eta 0:00:08\n",
      "     --------------- ------------------------ 9.3/23.5 MB 1.8 MB/s eta 0:00:08\n",
      "     ---------------- ----------------------- 9.4/23.5 MB 1.8 MB/s eta 0:00:08\n",
      "     ---------------- ----------------------- 9.5/23.5 MB 1.8 MB/s eta 0:00:08\n",
      "     ---------------- ----------------------- 9.6/23.5 MB 1.8 MB/s eta 0:00:08\n",
      "     ---------------- ----------------------- 9.7/23.5 MB 1.8 MB/s eta 0:00:08\n",
      "     ---------------- ----------------------- 9.7/23.5 MB 1.8 MB/s eta 0:00:08\n",
      "     ---------------- ----------------------- 9.8/23.5 MB 1.8 MB/s eta 0:00:08\n",
      "     ---------------- ----------------------- 9.9/23.5 MB 1.8 MB/s eta 0:00:08\n",
      "     ----------------- ---------------------- 10.0/23.5 MB 1.8 MB/s eta 0:00:08\n",
      "     ----------------- ---------------------- 10.1/23.5 MB 1.8 MB/s eta 0:00:08\n",
      "     ----------------- ---------------------- 10.2/23.5 MB 1.8 MB/s eta 0:00:08\n",
      "     ----------------- ---------------------- 10.2/23.5 MB 1.8 MB/s eta 0:00:08\n",
      "     ----------------- ---------------------- 10.3/23.5 MB 1.8 MB/s eta 0:00:08\n",
      "     ----------------- ---------------------- 10.4/23.5 MB 1.8 MB/s eta 0:00:08\n",
      "     ----------------- ---------------------- 10.5/23.5 MB 1.9 MB/s eta 0:00:07\n",
      "     ------------------ --------------------- 10.6/23.5 MB 1.9 MB/s eta 0:00:07\n",
      "     ------------------ --------------------- 10.7/23.5 MB 1.9 MB/s eta 0:00:07\n",
      "     ------------------ --------------------- 10.8/23.5 MB 1.8 MB/s eta 0:00:07\n",
      "     ------------------ --------------------- 10.8/23.5 MB 1.8 MB/s eta 0:00:07\n",
      "     ------------------ --------------------- 10.9/23.5 MB 1.8 MB/s eta 0:00:07\n",
      "     ------------------ --------------------- 11.0/23.5 MB 1.8 MB/s eta 0:00:07\n",
      "     ------------------ --------------------- 11.1/23.5 MB 2.0 MB/s eta 0:00:07\n",
      "     ------------------- -------------------- 11.2/23.5 MB 2.0 MB/s eta 0:00:07\n",
      "     ------------------- -------------------- 11.3/23.5 MB 2.0 MB/s eta 0:00:07\n",
      "     ------------------- -------------------- 11.3/23.5 MB 2.0 MB/s eta 0:00:07\n",
      "     ------------------- -------------------- 11.4/23.5 MB 2.0 MB/s eta 0:00:07\n",
      "     ------------------- -------------------- 11.5/23.5 MB 2.0 MB/s eta 0:00:07\n",
      "     ------------------- -------------------- 11.6/23.5 MB 2.0 MB/s eta 0:00:07\n",
      "     ------------------- -------------------- 11.7/23.5 MB 1.9 MB/s eta 0:00:07\n",
      "     -------------------- ------------------- 11.8/23.5 MB 1.9 MB/s eta 0:00:07\n",
      "     -------------------- ------------------- 11.9/23.5 MB 1.9 MB/s eta 0:00:07\n",
      "     -------------------- ------------------- 11.9/23.5 MB 1.9 MB/s eta 0:00:07\n",
      "     -------------------- ------------------- 12.0/23.5 MB 1.9 MB/s eta 0:00:07\n",
      "     -------------------- ------------------- 12.1/23.5 MB 1.9 MB/s eta 0:00:07\n",
      "     -------------------- ------------------- 12.2/23.5 MB 1.8 MB/s eta 0:00:07\n",
      "     -------------------- ------------------- 12.3/23.5 MB 1.8 MB/s eta 0:00:07\n",
      "     --------------------- ------------------ 12.3/23.5 MB 1.8 MB/s eta 0:00:07\n",
      "     --------------------- ------------------ 12.5/23.5 MB 1.8 MB/s eta 0:00:07\n",
      "     --------------------- ------------------ 12.5/23.5 MB 1.8 MB/s eta 0:00:06\n",
      "     --------------------- ------------------ 12.6/23.5 MB 1.8 MB/s eta 0:00:06\n",
      "     --------------------- ------------------ 12.7/23.5 MB 1.8 MB/s eta 0:00:06\n",
      "     --------------------- ------------------ 12.8/23.5 MB 1.8 MB/s eta 0:00:06\n",
      "     --------------------- ------------------ 12.9/23.5 MB 1.8 MB/s eta 0:00:06\n",
      "     ---------------------- ----------------- 12.9/23.5 MB 1.8 MB/s eta 0:00:06\n",
      "     ---------------------- ----------------- 13.0/23.5 MB 1.8 MB/s eta 0:00:06\n",
      "     ---------------------- ----------------- 13.1/23.5 MB 1.8 MB/s eta 0:00:06\n",
      "     ---------------------- ----------------- 13.2/23.5 MB 1.8 MB/s eta 0:00:06\n",
      "     ---------------------- ----------------- 13.3/23.5 MB 1.8 MB/s eta 0:00:06\n",
      "     ---------------------- ----------------- 13.4/23.5 MB 1.8 MB/s eta 0:00:06\n",
      "     ---------------------- ----------------- 13.4/23.5 MB 1.8 MB/s eta 0:00:06\n",
      "     ----------------------- ---------------- 13.5/23.5 MB 1.8 MB/s eta 0:00:06\n",
      "     ----------------------- ---------------- 13.6/23.5 MB 1.8 MB/s eta 0:00:06\n",
      "     ----------------------- ---------------- 13.7/23.5 MB 1.8 MB/s eta 0:00:06\n",
      "     ----------------------- ---------------- 13.8/23.5 MB 1.8 MB/s eta 0:00:06\n",
      "     ----------------------- ---------------- 13.9/23.5 MB 1.8 MB/s eta 0:00:06\n",
      "     ----------------------- ---------------- 13.9/23.5 MB 1.8 MB/s eta 0:00:06\n",
      "     ----------------------- ---------------- 14.0/23.5 MB 1.8 MB/s eta 0:00:06\n",
      "     ------------------------ --------------- 14.1/23.5 MB 1.8 MB/s eta 0:00:06\n",
      "     ------------------------ --------------- 14.2/23.5 MB 1.8 MB/s eta 0:00:06\n",
      "     ------------------------ --------------- 14.3/23.5 MB 1.8 MB/s eta 0:00:06\n",
      "     ------------------------ --------------- 14.4/23.5 MB 1.8 MB/s eta 0:00:06\n",
      "     ------------------------ --------------- 14.5/23.5 MB 1.8 MB/s eta 0:00:05\n",
      "     ------------------------ --------------- 14.5/23.5 MB 1.8 MB/s eta 0:00:05\n",
      "     ------------------------ --------------- 14.6/23.5 MB 1.8 MB/s eta 0:00:05\n",
      "     ------------------------- -------------- 14.7/23.5 MB 1.8 MB/s eta 0:00:05\n",
      "     ------------------------- -------------- 14.8/23.5 MB 1.8 MB/s eta 0:00:05\n",
      "     ------------------------- -------------- 14.9/23.5 MB 1.8 MB/s eta 0:00:05\n",
      "     ------------------------- -------------- 15.0/23.5 MB 1.8 MB/s eta 0:00:05\n",
      "     ------------------------- -------------- 15.0/23.5 MB 1.8 MB/s eta 0:00:05\n",
      "     ------------------------- -------------- 15.1/23.5 MB 1.8 MB/s eta 0:00:05\n",
      "     ------------------------- -------------- 15.2/23.5 MB 1.8 MB/s eta 0:00:05\n",
      "     -------------------------- ------------- 15.3/23.5 MB 1.8 MB/s eta 0:00:05\n",
      "     -------------------------- ------------- 15.3/23.5 MB 1.8 MB/s eta 0:00:05\n",
      "     -------------------------- ------------- 15.5/23.5 MB 1.8 MB/s eta 0:00:05\n",
      "     -------------------------- ------------- 15.5/23.5 MB 1.8 MB/s eta 0:00:05\n",
      "     -------------------------- ------------- 15.6/23.5 MB 1.8 MB/s eta 0:00:05\n",
      "     -------------------------- ------------- 15.7/23.5 MB 1.8 MB/s eta 0:00:05\n",
      "     -------------------------- ------------- 15.8/23.5 MB 1.8 MB/s eta 0:00:05\n",
      "     --------------------------- ------------ 15.9/23.5 MB 1.8 MB/s eta 0:00:05\n",
      "     --------------------------- ------------ 16.0/23.5 MB 1.8 MB/s eta 0:00:05\n",
      "     --------------------------- ------------ 16.0/23.5 MB 1.8 MB/s eta 0:00:05\n",
      "     --------------------------- ------------ 16.1/23.5 MB 1.8 MB/s eta 0:00:05\n",
      "     --------------------------- ------------ 16.2/23.5 MB 1.8 MB/s eta 0:00:05\n",
      "     --------------------------- ------------ 16.3/23.5 MB 1.8 MB/s eta 0:00:04\n",
      "     --------------------------- ------------ 16.4/23.5 MB 1.8 MB/s eta 0:00:04\n",
      "     ---------------------------- ----------- 16.5/23.5 MB 1.8 MB/s eta 0:00:04\n",
      "     ---------------------------- ----------- 16.5/23.5 MB 1.8 MB/s eta 0:00:04\n",
      "     ---------------------------- ----------- 16.6/23.5 MB 1.8 MB/s eta 0:00:04\n",
      "     ---------------------------- ----------- 16.7/23.5 MB 1.8 MB/s eta 0:00:04\n",
      "     ---------------------------- ----------- 16.8/23.5 MB 1.8 MB/s eta 0:00:04\n",
      "     ---------------------------- ----------- 16.9/23.5 MB 1.8 MB/s eta 0:00:04\n",
      "     ---------------------------- ----------- 17.0/23.5 MB 1.8 MB/s eta 0:00:04\n",
      "     ----------------------------- ---------- 17.0/23.5 MB 1.8 MB/s eta 0:00:04\n",
      "     ----------------------------- ---------- 17.1/23.5 MB 1.8 MB/s eta 0:00:04\n",
      "     ----------------------------- ---------- 17.2/23.5 MB 1.8 MB/s eta 0:00:04\n",
      "     ----------------------------- ---------- 17.3/23.5 MB 1.8 MB/s eta 0:00:04\n",
      "     ----------------------------- ---------- 17.4/23.5 MB 1.8 MB/s eta 0:00:04\n",
      "     ----------------------------- ---------- 17.5/23.5 MB 1.8 MB/s eta 0:00:04\n",
      "     ----------------------------- ---------- 17.6/23.5 MB 1.8 MB/s eta 0:00:04\n",
      "     ------------------------------ --------- 17.6/23.5 MB 1.8 MB/s eta 0:00:04\n",
      "     ------------------------------ --------- 17.7/23.5 MB 1.8 MB/s eta 0:00:04\n",
      "     ------------------------------ --------- 17.8/23.5 MB 1.8 MB/s eta 0:00:04\n",
      "     ------------------------------ --------- 17.9/23.5 MB 1.8 MB/s eta 0:00:04\n",
      "     ------------------------------ --------- 18.0/23.5 MB 1.8 MB/s eta 0:00:04\n",
      "     ------------------------------ --------- 18.1/23.5 MB 1.8 MB/s eta 0:00:03\n",
      "     ------------------------------ --------- 18.2/23.5 MB 1.8 MB/s eta 0:00:03\n",
      "     ------------------------------- -------- 18.2/23.5 MB 1.8 MB/s eta 0:00:03\n",
      "     ------------------------------- -------- 18.3/23.5 MB 1.8 MB/s eta 0:00:03\n",
      "     ------------------------------- -------- 18.4/23.5 MB 1.8 MB/s eta 0:00:03\n",
      "     ------------------------------- -------- 18.5/23.5 MB 1.8 MB/s eta 0:00:03\n",
      "     ------------------------------- -------- 18.6/23.5 MB 1.8 MB/s eta 0:00:03\n",
      "     ------------------------------- -------- 18.7/23.5 MB 1.8 MB/s eta 0:00:03\n",
      "     ------------------------------- -------- 18.7/23.5 MB 1.8 MB/s eta 0:00:03\n",
      "     -------------------------------- ------- 18.8/23.5 MB 1.8 MB/s eta 0:00:03\n",
      "     -------------------------------- ------- 18.9/23.5 MB 1.8 MB/s eta 0:00:03\n",
      "     -------------------------------- ------- 19.0/23.5 MB 1.8 MB/s eta 0:00:03\n",
      "     -------------------------------- ------- 19.1/23.5 MB 1.8 MB/s eta 0:00:03\n",
      "     -------------------------------- ------- 19.2/23.5 MB 1.8 MB/s eta 0:00:03\n",
      "     -------------------------------- ------- 19.3/23.5 MB 1.8 MB/s eta 0:00:03\n",
      "     -------------------------------- ------- 19.3/23.5 MB 1.8 MB/s eta 0:00:03\n",
      "     --------------------------------- ------ 19.4/23.5 MB 1.8 MB/s eta 0:00:03\n",
      "     --------------------------------- ------ 19.5/23.5 MB 1.8 MB/s eta 0:00:03\n",
      "     --------------------------------- ------ 19.6/23.5 MB 1.8 MB/s eta 0:00:03\n",
      "     --------------------------------- ------ 19.7/23.5 MB 1.8 MB/s eta 0:00:03\n",
      "     --------------------------------- ------ 19.8/23.5 MB 1.8 MB/s eta 0:00:03\n",
      "     --------------------------------- ------ 19.8/23.5 MB 1.8 MB/s eta 0:00:02\n",
      "     --------------------------------- ------ 19.9/23.5 MB 1.8 MB/s eta 0:00:02\n",
      "     ---------------------------------- ----- 20.0/23.5 MB 1.8 MB/s eta 0:00:02\n",
      "     ---------------------------------- ----- 20.1/23.5 MB 1.8 MB/s eta 0:00:02\n",
      "     ---------------------------------- ----- 20.2/23.5 MB 1.8 MB/s eta 0:00:02\n",
      "     ---------------------------------- ----- 20.3/23.5 MB 1.8 MB/s eta 0:00:02\n",
      "     ---------------------------------- ----- 20.4/23.5 MB 1.8 MB/s eta 0:00:02\n",
      "     ---------------------------------- ----- 20.5/23.5 MB 1.8 MB/s eta 0:00:02\n",
      "     ----------------------------------- ---- 20.5/23.5 MB 1.8 MB/s eta 0:00:02\n",
      "     ----------------------------------- ---- 20.6/23.5 MB 1.8 MB/s eta 0:00:02\n",
      "     ----------------------------------- ---- 20.7/23.5 MB 1.8 MB/s eta 0:00:02\n",
      "     ----------------------------------- ---- 20.8/23.5 MB 1.8 MB/s eta 0:00:02\n",
      "     ----------------------------------- ---- 20.9/23.5 MB 1.8 MB/s eta 0:00:02\n",
      "     ----------------------------------- ---- 21.0/23.5 MB 1.8 MB/s eta 0:00:02\n",
      "     ----------------------------------- ---- 21.1/23.5 MB 1.8 MB/s eta 0:00:02\n",
      "     ------------------------------------ --- 21.1/23.5 MB 1.8 MB/s eta 0:00:02\n",
      "     ------------------------------------ --- 21.2/23.5 MB 1.8 MB/s eta 0:00:02\n",
      "     ------------------------------------ --- 21.3/23.5 MB 1.8 MB/s eta 0:00:02\n",
      "     ------------------------------------ --- 21.4/23.5 MB 1.8 MB/s eta 0:00:02\n",
      "     ------------------------------------ --- 21.5/23.5 MB 1.8 MB/s eta 0:00:02\n",
      "     ------------------------------------ --- 21.6/23.5 MB 1.8 MB/s eta 0:00:02\n",
      "     ------------------------------------ --- 21.6/23.5 MB 1.8 MB/s eta 0:00:02\n",
      "     ------------------------------------- -- 21.7/23.5 MB 1.8 MB/s eta 0:00:01\n",
      "     ------------------------------------- -- 21.8/23.5 MB 1.8 MB/s eta 0:00:01\n",
      "     ------------------------------------- -- 21.9/23.5 MB 1.8 MB/s eta 0:00:01\n",
      "     ------------------------------------- -- 22.0/23.5 MB 1.8 MB/s eta 0:00:01\n",
      "     ------------------------------------- -- 22.1/23.5 MB 1.8 MB/s eta 0:00:01\n",
      "     ------------------------------------- -- 22.1/23.5 MB 1.8 MB/s eta 0:00:01\n",
      "     ------------------------------------- -- 22.2/23.5 MB 1.8 MB/s eta 0:00:01\n",
      "     -------------------------------------- - 22.3/23.5 MB 1.8 MB/s eta 0:00:01\n",
      "     -------------------------------------- - 22.4/23.5 MB 1.8 MB/s eta 0:00:01\n",
      "     -------------------------------------- - 22.5/23.5 MB 1.8 MB/s eta 0:00:01\n",
      "     -------------------------------------- - 22.6/23.5 MB 1.8 MB/s eta 0:00:01\n",
      "     -------------------------------------- - 22.7/23.5 MB 1.8 MB/s eta 0:00:01\n",
      "     -------------------------------------- - 22.8/23.5 MB 1.8 MB/s eta 0:00:01\n",
      "     -------------------------------------- - 22.8/23.5 MB 1.8 MB/s eta 0:00:01\n",
      "     ---------------------------------------  22.9/23.5 MB 1.8 MB/s eta 0:00:01\n",
      "     ---------------------------------------  23.0/23.5 MB 1.8 MB/s eta 0:00:01\n",
      "     ---------------------------------------  23.1/23.5 MB 1.8 MB/s eta 0:00:01\n",
      "     ---------------------------------------  23.2/23.5 MB 1.8 MB/s eta 0:00:01\n",
      "     ---------------------------------------  23.2/23.5 MB 1.8 MB/s eta 0:00:01\n",
      "     ---------------------------------------  23.3/23.5 MB 1.8 MB/s eta 0:00:01\n",
      "     ---------------------------------------  23.4/23.5 MB 1.8 MB/s eta 0:00:01\n",
      "     ---------------------------------------  23.5/23.5 MB 1.8 MB/s eta 0:00:01\n",
      "     ---------------------------------------  23.5/23.5 MB 1.8 MB/s eta 0:00:01\n",
      "     ---------------------------------------  23.5/23.5 MB 1.8 MB/s eta 0:00:01\n",
      "     ---------------------------------------  23.5/23.5 MB 1.8 MB/s eta 0:00:01\n",
      "     ---------------------------------------  23.5/23.5 MB 1.8 MB/s eta 0:00:01\n",
      "     ---------------------------------------  23.5/23.5 MB 1.8 MB/s eta 0:00:01\n",
      "     ---------------------------------------  23.5/23.5 MB 1.8 MB/s eta 0:00:01\n",
      "     ---------------------------------------  23.5/23.5 MB 1.8 MB/s eta 0:00:01\n",
      "     ---------------------------------------- 23.5/23.5 MB 1.7 MB/s eta 0:00:00\n",
      "  Preparing metadata (setup.py): started\n",
      "  Preparing metadata (setup.py): finished with status 'done'\n",
      "Requirement already satisfied: ipython_genutils in c:\\users\\prodip\\anaconda3\\lib\\site-packages (from jupyter_contrib_nbextensions) (0.2.0)\n",
      "Collecting jupyter_contrib_core>=0.3.3 (from jupyter_contrib_nbextensions)\n",
      "  Downloading jupyter_contrib_core-0.4.2.tar.gz (17 kB)\n",
      "  Preparing metadata (setup.py): started\n",
      "  Preparing metadata (setup.py): finished with status 'done'\n",
      "Requirement already satisfied: jupyter_core in c:\\users\\prodip\\anaconda3\\lib\\site-packages (from jupyter_contrib_nbextensions) (5.3.0)\n",
      "Collecting jupyter_highlight_selected_word>=0.1.1 (from jupyter_contrib_nbextensions)\n",
      "  Downloading jupyter_highlight_selected_word-0.2.0-py2.py3-none-any.whl (11 kB)\n",
      "Collecting jupyter_nbextensions_configurator>=0.4.0 (from jupyter_contrib_nbextensions)\n",
      "  Downloading jupyter_nbextensions_configurator-0.6.3-py2.py3-none-any.whl (466 kB)\n",
      "     ---------------------------------------- 0.0/466.9 kB ? eta -:--:--\n",
      "     ------------------------- ------------ 317.4/466.9 kB 9.9 MB/s eta 0:00:01\n",
      "     ------------------------- ------------ 317.4/466.9 kB 9.9 MB/s eta 0:00:01\n",
      "     ------------------------- ------------ 317.4/466.9 kB 9.9 MB/s eta 0:00:01\n",
      "     ------------------------- ------------ 317.4/466.9 kB 9.9 MB/s eta 0:00:01\n",
      "     ------------------------- ------------ 317.4/466.9 kB 9.9 MB/s eta 0:00:01\n",
      "     ------------------------- ------------ 317.4/466.9 kB 9.9 MB/s eta 0:00:01\n",
      "     ------------------------- ------------ 317.4/466.9 kB 9.9 MB/s eta 0:00:01\n",
      "     ------------------------- ------------ 317.4/466.9 kB 9.9 MB/s eta 0:00:01\n",
      "     ------------------------- ------------ 317.4/466.9 kB 9.9 MB/s eta 0:00:01\n",
      "     ------------------------- ------------ 317.4/466.9 kB 9.9 MB/s eta 0:00:01\n",
      "     -------------------------- --------- 337.9/466.9 kB 675.6 kB/s eta 0:00:01\n",
      "     -------------------------- --------- 337.9/466.9 kB 675.6 kB/s eta 0:00:01\n",
      "     -------------------------- --------- 348.2/466.9 kB 568.9 kB/s eta 0:00:01\n",
      "     -------------------------- --------- 348.2/466.9 kB 568.9 kB/s eta 0:00:01\n",
      "     -------------------------- --------- 348.2/466.9 kB 568.9 kB/s eta 0:00:01\n",
      "     ---------------------------- ------- 368.6/466.9 kB 520.9 kB/s eta 0:00:01\n",
      "     ---------------------------- ------- 368.6/466.9 kB 520.9 kB/s eta 0:00:01\n",
      "     ------------------------------ ----- 399.4/466.9 kB 488.2 kB/s eta 0:00:01\n",
      "     ------------------------------ ----- 399.4/466.9 kB 488.2 kB/s eta 0:00:01\n",
      "     ------------------------------ ----- 399.4/466.9 kB 488.2 kB/s eta 0:00:01\n",
      "     ------------------------------ ----- 399.4/466.9 kB 488.2 kB/s eta 0:00:01\n",
      "     ------------------------------ ----- 399.4/466.9 kB 488.2 kB/s eta 0:00:01\n",
      "     ------------------------------ ----- 399.4/466.9 kB 488.2 kB/s eta 0:00:01\n",
      "     ------------------------------ ----- 399.4/466.9 kB 488.2 kB/s eta 0:00:01\n",
      "     ------------------------------ ----- 399.4/466.9 kB 488.2 kB/s eta 0:00:01\n",
      "     ------------------------------ ----- 399.4/466.9 kB 488.2 kB/s eta 0:00:01\n",
      "     ------------------------------ ----- 399.4/466.9 kB 488.2 kB/s eta 0:00:01\n",
      "     ------------------------------ ----- 399.4/466.9 kB 488.2 kB/s eta 0:00:01\n",
      "     ------------------------------ ----- 399.4/466.9 kB 488.2 kB/s eta 0:00:01\n",
      "     ------------------------------ ----- 399.4/466.9 kB 488.2 kB/s eta 0:00:01\n",
      "     ------------------------------ ----- 399.4/466.9 kB 488.2 kB/s eta 0:00:01\n",
      "     ------------------------------ ----- 399.4/466.9 kB 488.2 kB/s eta 0:00:01\n",
      "     -------------------------------- --- 419.8/466.9 kB 270.2 kB/s eta 0:00:01\n",
      "     -------------------------------- --- 419.8/466.9 kB 270.2 kB/s eta 0:00:01\n",
      "     -------------------------------- --- 419.8/466.9 kB 270.2 kB/s eta 0:00:01\n",
      "     --------------------------------- -- 430.1/466.9 kB 255.8 kB/s eta 0:00:01\n",
      "     --------------------------------- -- 430.1/466.9 kB 255.8 kB/s eta 0:00:01\n",
      "     -----------------------------------  460.8/466.9 kB 257.5 kB/s eta 0:00:01\n",
      "     ------------------------------------ 466.9/466.9 kB 258.6 kB/s eta 0:00:00\n",
      "Requirement already satisfied: nbconvert>=6.0 in c:\\users\\prodip\\anaconda3\\lib\\site-packages (from jupyter_contrib_nbextensions) (6.5.4)\n",
      "Requirement already satisfied: notebook>=6.0 in c:\\users\\prodip\\anaconda3\\lib\\site-packages (from jupyter_contrib_nbextensions) (6.5.4)\n",
      "Requirement already satisfied: tornado in c:\\users\\prodip\\anaconda3\\lib\\site-packages (from jupyter_contrib_nbextensions) (6.3.2)\n",
      "Requirement already satisfied: traitlets>=4.1 in c:\\users\\prodip\\anaconda3\\lib\\site-packages (from jupyter_contrib_nbextensions) (5.7.1)\n",
      "Requirement already satisfied: lxml in c:\\users\\prodip\\anaconda3\\lib\\site-packages (from jupyter_contrib_nbextensions) (4.9.3)\n",
      "Requirement already satisfied: setuptools in c:\\users\\prodip\\anaconda3\\lib\\site-packages (from jupyter_contrib_core>=0.3.3->jupyter_contrib_nbextensions) (68.0.0)\n",
      "Requirement already satisfied: pyyaml in c:\\users\\prodip\\anaconda3\\lib\\site-packages (from jupyter_nbextensions_configurator>=0.4.0->jupyter_contrib_nbextensions) (6.0)\n",
      "Requirement already satisfied: beautifulsoup4 in c:\\users\\prodip\\anaconda3\\lib\\site-packages (from nbconvert>=6.0->jupyter_contrib_nbextensions) (4.12.2)\n",
      "Requirement already satisfied: bleach in c:\\users\\prodip\\anaconda3\\lib\\site-packages (from nbconvert>=6.0->jupyter_contrib_nbextensions) (4.1.0)\n",
      "Requirement already satisfied: defusedxml in c:\\users\\prodip\\anaconda3\\lib\\site-packages (from nbconvert>=6.0->jupyter_contrib_nbextensions) (0.7.1)\n",
      "Requirement already satisfied: entrypoints>=0.2.2 in c:\\users\\prodip\\anaconda3\\lib\\site-packages (from nbconvert>=6.0->jupyter_contrib_nbextensions) (0.4)\n",
      "Requirement already satisfied: jinja2>=3.0 in c:\\users\\prodip\\anaconda3\\lib\\site-packages (from nbconvert>=6.0->jupyter_contrib_nbextensions) (3.1.2)\n",
      "Requirement already satisfied: jupyterlab-pygments in c:\\users\\prodip\\anaconda3\\lib\\site-packages (from nbconvert>=6.0->jupyter_contrib_nbextensions) (0.1.2)\n",
      "Requirement already satisfied: MarkupSafe>=2.0 in c:\\users\\prodip\\anaconda3\\lib\\site-packages (from nbconvert>=6.0->jupyter_contrib_nbextensions) (2.1.1)\n",
      "Requirement already satisfied: mistune<2,>=0.8.1 in c:\\users\\prodip\\anaconda3\\lib\\site-packages (from nbconvert>=6.0->jupyter_contrib_nbextensions) (0.8.4)\n",
      "Requirement already satisfied: nbclient>=0.5.0 in c:\\users\\prodip\\anaconda3\\lib\\site-packages (from nbconvert>=6.0->jupyter_contrib_nbextensions) (0.5.13)\n",
      "Requirement already satisfied: nbformat>=5.1 in c:\\users\\prodip\\anaconda3\\lib\\site-packages (from nbconvert>=6.0->jupyter_contrib_nbextensions) (5.9.2)\n",
      "Requirement already satisfied: packaging in c:\\users\\prodip\\anaconda3\\lib\\site-packages (from nbconvert>=6.0->jupyter_contrib_nbextensions) (23.1)\n",
      "Requirement already satisfied: pandocfilters>=1.4.1 in c:\\users\\prodip\\anaconda3\\lib\\site-packages (from nbconvert>=6.0->jupyter_contrib_nbextensions) (1.5.0)\n",
      "Requirement already satisfied: pygments>=2.4.1 in c:\\users\\prodip\\anaconda3\\lib\\site-packages (from nbconvert>=6.0->jupyter_contrib_nbextensions) (2.15.1)\n",
      "Requirement already satisfied: tinycss2 in c:\\users\\prodip\\anaconda3\\lib\\site-packages (from nbconvert>=6.0->jupyter_contrib_nbextensions) (1.2.1)\n",
      "Requirement already satisfied: platformdirs>=2.5 in c:\\users\\prodip\\anaconda3\\lib\\site-packages (from jupyter_core->jupyter_contrib_nbextensions) (3.10.0)\n",
      "Requirement already satisfied: pywin32>=300 in c:\\users\\prodip\\anaconda3\\lib\\site-packages (from jupyter_core->jupyter_contrib_nbextensions) (305.1)\n",
      "Requirement already satisfied: pyzmq>=17 in c:\\users\\prodip\\anaconda3\\lib\\site-packages (from notebook>=6.0->jupyter_contrib_nbextensions) (23.2.0)\n",
      "Requirement already satisfied: argon2-cffi in c:\\users\\prodip\\anaconda3\\lib\\site-packages (from notebook>=6.0->jupyter_contrib_nbextensions) (21.3.0)\n",
      "Requirement already satisfied: jupyter-client>=5.3.4 in c:\\users\\prodip\\anaconda3\\lib\\site-packages (from notebook>=6.0->jupyter_contrib_nbextensions) (7.4.9)\n",
      "Requirement already satisfied: nest-asyncio>=1.5 in c:\\users\\prodip\\anaconda3\\lib\\site-packages (from notebook>=6.0->jupyter_contrib_nbextensions) (1.5.6)\n",
      "Requirement already satisfied: ipykernel in c:\\users\\prodip\\anaconda3\\lib\\site-packages (from notebook>=6.0->jupyter_contrib_nbextensions) (6.25.0)\n",
      "Requirement already satisfied: Send2Trash>=1.8.0 in c:\\users\\prodip\\anaconda3\\lib\\site-packages (from notebook>=6.0->jupyter_contrib_nbextensions) (1.8.0)\n",
      "Requirement already satisfied: terminado>=0.8.3 in c:\\users\\prodip\\anaconda3\\lib\\site-packages (from notebook>=6.0->jupyter_contrib_nbextensions) (0.17.1)\n",
      "Requirement already satisfied: prometheus-client in c:\\users\\prodip\\anaconda3\\lib\\site-packages (from notebook>=6.0->jupyter_contrib_nbextensions) (0.14.1)\n",
      "Requirement already satisfied: nbclassic>=0.4.7 in c:\\users\\prodip\\anaconda3\\lib\\site-packages (from notebook>=6.0->jupyter_contrib_nbextensions) (0.5.5)\n",
      "Requirement already satisfied: python-dateutil>=2.8.2 in c:\\users\\prodip\\anaconda3\\lib\\site-packages (from jupyter-client>=5.3.4->notebook>=6.0->jupyter_contrib_nbextensions) (2.8.2)\n",
      "Requirement already satisfied: jupyter-server>=1.8 in c:\\users\\prodip\\anaconda3\\lib\\site-packages (from nbclassic>=0.4.7->notebook>=6.0->jupyter_contrib_nbextensions) (1.23.4)\n",
      "Requirement already satisfied: notebook-shim>=0.1.0 in c:\\users\\prodip\\anaconda3\\lib\\site-packages (from nbclassic>=0.4.7->notebook>=6.0->jupyter_contrib_nbextensions) (0.2.2)\n",
      "Requirement already satisfied: fastjsonschema in c:\\users\\prodip\\anaconda3\\lib\\site-packages (from nbformat>=5.1->nbconvert>=6.0->jupyter_contrib_nbextensions) (2.16.2)\n",
      "Requirement already satisfied: jsonschema>=2.6 in c:\\users\\prodip\\anaconda3\\lib\\site-packages (from nbformat>=5.1->nbconvert>=6.0->jupyter_contrib_nbextensions) (4.17.3)\n",
      "Requirement already satisfied: pywinpty>=1.1.0 in c:\\users\\prodip\\anaconda3\\lib\\site-packages (from terminado>=0.8.3->notebook>=6.0->jupyter_contrib_nbextensions) (2.0.10)\n",
      "Requirement already satisfied: argon2-cffi-bindings in c:\\users\\prodip\\anaconda3\\lib\\site-packages (from argon2-cffi->notebook>=6.0->jupyter_contrib_nbextensions) (21.2.0)\n",
      "Requirement already satisfied: soupsieve>1.2 in c:\\users\\prodip\\anaconda3\\lib\\site-packages (from beautifulsoup4->nbconvert>=6.0->jupyter_contrib_nbextensions) (2.4)\n",
      "Requirement already satisfied: six>=1.9.0 in c:\\users\\prodip\\anaconda3\\lib\\site-packages (from bleach->nbconvert>=6.0->jupyter_contrib_nbextensions) (1.16.0)\n",
      "Requirement already satisfied: webencodings in c:\\users\\prodip\\anaconda3\\lib\\site-packages (from bleach->nbconvert>=6.0->jupyter_contrib_nbextensions) (0.5.1)\n",
      "Requirement already satisfied: comm>=0.1.1 in c:\\users\\prodip\\anaconda3\\lib\\site-packages (from ipykernel->notebook>=6.0->jupyter_contrib_nbextensions) (0.1.2)\n",
      "Requirement already satisfied: debugpy>=1.6.5 in c:\\users\\prodip\\anaconda3\\lib\\site-packages (from ipykernel->notebook>=6.0->jupyter_contrib_nbextensions) (1.6.7)\n",
      "Requirement already satisfied: ipython>=7.23.1 in c:\\users\\prodip\\anaconda3\\lib\\site-packages (from ipykernel->notebook>=6.0->jupyter_contrib_nbextensions) (8.15.0)\n",
      "Requirement already satisfied: matplotlib-inline>=0.1 in c:\\users\\prodip\\anaconda3\\lib\\site-packages (from ipykernel->notebook>=6.0->jupyter_contrib_nbextensions) (0.1.6)\n",
      "Requirement already satisfied: psutil in c:\\users\\prodip\\anaconda3\\lib\\site-packages (from ipykernel->notebook>=6.0->jupyter_contrib_nbextensions) (5.9.0)\n",
      "Requirement already satisfied: backcall in c:\\users\\prodip\\anaconda3\\lib\\site-packages (from ipython>=7.23.1->ipykernel->notebook>=6.0->jupyter_contrib_nbextensions) (0.2.0)\n",
      "Requirement already satisfied: decorator in c:\\users\\prodip\\anaconda3\\lib\\site-packages (from ipython>=7.23.1->ipykernel->notebook>=6.0->jupyter_contrib_nbextensions) (5.1.1)\n",
      "Requirement already satisfied: jedi>=0.16 in c:\\users\\prodip\\anaconda3\\lib\\site-packages (from ipython>=7.23.1->ipykernel->notebook>=6.0->jupyter_contrib_nbextensions) (0.18.1)\n",
      "Requirement already satisfied: pickleshare in c:\\users\\prodip\\anaconda3\\lib\\site-packages (from ipython>=7.23.1->ipykernel->notebook>=6.0->jupyter_contrib_nbextensions) (0.7.5)\n",
      "Requirement already satisfied: prompt-toolkit!=3.0.37,<3.1.0,>=3.0.30 in c:\\users\\prodip\\anaconda3\\lib\\site-packages (from ipython>=7.23.1->ipykernel->notebook>=6.0->jupyter_contrib_nbextensions) (3.0.36)\n",
      "Requirement already satisfied: stack-data in c:\\users\\prodip\\anaconda3\\lib\\site-packages (from ipython>=7.23.1->ipykernel->notebook>=6.0->jupyter_contrib_nbextensions) (0.2.0)\n",
      "Requirement already satisfied: colorama in c:\\users\\prodip\\anaconda3\\lib\\site-packages (from ipython>=7.23.1->ipykernel->notebook>=6.0->jupyter_contrib_nbextensions) (0.4.6)\n",
      "Requirement already satisfied: attrs>=17.4.0 in c:\\users\\prodip\\anaconda3\\lib\\site-packages (from jsonschema>=2.6->nbformat>=5.1->nbconvert>=6.0->jupyter_contrib_nbextensions) (22.1.0)\n",
      "Requirement already satisfied: pyrsistent!=0.17.0,!=0.17.1,!=0.17.2,>=0.14.0 in c:\\users\\prodip\\anaconda3\\lib\\site-packages (from jsonschema>=2.6->nbformat>=5.1->nbconvert>=6.0->jupyter_contrib_nbextensions) (0.18.0)\n",
      "Requirement already satisfied: anyio<4,>=3.1.0 in c:\\users\\prodip\\anaconda3\\lib\\site-packages (from jupyter-server>=1.8->nbclassic>=0.4.7->notebook>=6.0->jupyter_contrib_nbextensions) (3.5.0)\n",
      "Requirement already satisfied: websocket-client in c:\\users\\prodip\\anaconda3\\lib\\site-packages (from jupyter-server>=1.8->nbclassic>=0.4.7->notebook>=6.0->jupyter_contrib_nbextensions) (0.58.0)\n",
      "Requirement already satisfied: cffi>=1.0.1 in c:\\users\\prodip\\anaconda3\\lib\\site-packages (from argon2-cffi-bindings->argon2-cffi->notebook>=6.0->jupyter_contrib_nbextensions) (1.15.1)\n",
      "Requirement already satisfied: idna>=2.8 in c:\\users\\prodip\\anaconda3\\lib\\site-packages (from anyio<4,>=3.1.0->jupyter-server>=1.8->nbclassic>=0.4.7->notebook>=6.0->jupyter_contrib_nbextensions) (3.4)\n",
      "Requirement already satisfied: sniffio>=1.1 in c:\\users\\prodip\\anaconda3\\lib\\site-packages (from anyio<4,>=3.1.0->jupyter-server>=1.8->nbclassic>=0.4.7->notebook>=6.0->jupyter_contrib_nbextensions) (1.2.0)\n",
      "Requirement already satisfied: pycparser in c:\\users\\prodip\\anaconda3\\lib\\site-packages (from cffi>=1.0.1->argon2-cffi-bindings->argon2-cffi->notebook>=6.0->jupyter_contrib_nbextensions) (2.21)\n",
      "Requirement already satisfied: parso<0.9.0,>=0.8.0 in c:\\users\\prodip\\anaconda3\\lib\\site-packages (from jedi>=0.16->ipython>=7.23.1->ipykernel->notebook>=6.0->jupyter_contrib_nbextensions) (0.8.3)\n",
      "Requirement already satisfied: wcwidth in c:\\users\\prodip\\anaconda3\\lib\\site-packages (from prompt-toolkit!=3.0.37,<3.1.0,>=3.0.30->ipython>=7.23.1->ipykernel->notebook>=6.0->jupyter_contrib_nbextensions) (0.2.5)\n",
      "Requirement already satisfied: executing in c:\\users\\prodip\\anaconda3\\lib\\site-packages (from stack-data->ipython>=7.23.1->ipykernel->notebook>=6.0->jupyter_contrib_nbextensions) (0.8.3)\n",
      "Requirement already satisfied: asttokens in c:\\users\\prodip\\anaconda3\\lib\\site-packages (from stack-data->ipython>=7.23.1->ipykernel->notebook>=6.0->jupyter_contrib_nbextensions) (2.0.5)\n",
      "Requirement already satisfied: pure-eval in c:\\users\\prodip\\anaconda3\\lib\\site-packages (from stack-data->ipython>=7.23.1->ipykernel->notebook>=6.0->jupyter_contrib_nbextensions) (0.2.2)\n",
      "Building wheels for collected packages: jupyter_contrib_nbextensions, jupyter_contrib_core\n",
      "  Building wheel for jupyter_contrib_nbextensions (setup.py): started\n",
      "  Building wheel for jupyter_contrib_nbextensions (setup.py): finished with status 'done'\n",
      "  Created wheel for jupyter_contrib_nbextensions: filename=jupyter_contrib_nbextensions-0.7.0-py2.py3-none-any.whl size=23428802 sha256=31c9473cedd79c8b9e8cb642a2604ed6be8ded8a3908b34f781127fc97627435\n",
      "  Stored in directory: c:\\users\\prodip\\appdata\\local\\pip\\cache\\wheels\\cd\\25\\fe\\cb6f3e82f5b1921b0157ac9e32adb2e54806ec1befc446be21\n",
      "  Building wheel for jupyter_contrib_core (setup.py): started\n",
      "  Building wheel for jupyter_contrib_core (setup.py): finished with status 'done'\n",
      "  Created wheel for jupyter_contrib_core: filename=jupyter_contrib_core-0.4.2-py2.py3-none-any.whl size=17498 sha256=0f8cd610ee8a4d9f9f5e8e9facb80f017081d2f23ab1d0bf1a19a94fbef8c926\n",
      "  Stored in directory: c:\\users\\prodip\\appdata\\local\\pip\\cache\\wheels\\37\\c3\\18\\be7a983c1120f15dc0c2d1cb9c33749871a93b034185e00ced\n",
      "Successfully built jupyter_contrib_nbextensions jupyter_contrib_core\n",
      "Installing collected packages: jupyter_highlight_selected_word, jupyter_contrib_core, jupyter_nbextensions_configurator, jupyter_contrib_nbextensions\n",
      "Successfully installed jupyter_contrib_core-0.4.2 jupyter_contrib_nbextensions-0.7.0 jupyter_highlight_selected_word-0.2.0 jupyter_nbextensions_configurator-0.6.3\n"
     ]
    }
   ],
   "source": [
    "pip install jupyter_contrib_nbextensions"
   ]
  },
  {
   "cell_type": "code",
   "execution_count": null,
   "id": "f0de4643",
   "metadata": {},
   "outputs": [],
   "source": [
    "pip install yapf"
   ]
  },
  {
   "cell_type": "code",
   "execution_count": 46,
   "id": "fe589e6a",
   "metadata": {},
   "outputs": [
    {
     "ename": "SyntaxError",
     "evalue": "invalid syntax (2518013743.py, line 1)",
     "output_type": "error",
     "traceback": [
      "\u001b[1;36m  Cell \u001b[1;32mIn[46], line 1\u001b[1;36m\u001b[0m\n\u001b[1;33m    jupyter nbextension enable\u001b[0m\n\u001b[1;37m            ^\u001b[0m\n\u001b[1;31mSyntaxError\u001b[0m\u001b[1;31m:\u001b[0m invalid syntax\n"
     ]
    }
   ],
   "source": [
    "jupyter nbextension enable\n",
    "code_prettify/code_prettify"
   ]
  },
  {
   "cell_type": "code",
   "execution_count": 2,
   "id": "d2d2200d",
   "metadata": {},
   "outputs": [
    {
     "name": "stdout",
     "output_type": "stream",
     "text": [
      "Requirement already satisfied: jupyter_contrib_nbextensions in c:\\users\\prodip\\anaconda3\\lib\\site-packages (0.7.0)\n",
      "Requirement already satisfied: ipython-genutils in c:\\users\\prodip\\anaconda3\\lib\\site-packages (from jupyter_contrib_nbextensions) (0.2.0)\n",
      "Requirement already satisfied: jupyter-contrib-core>=0.3.3 in c:\\users\\prodip\\anaconda3\\lib\\site-packages (from jupyter_contrib_nbextensions) (0.4.2)\n",
      "Requirement already satisfied: jupyter-core in c:\\users\\prodip\\anaconda3\\lib\\site-packages (from jupyter_contrib_nbextensions) (5.3.0)\n",
      "Requirement already satisfied: jupyter-highlight-selected-word>=0.1.1 in c:\\users\\prodip\\anaconda3\\lib\\site-packages (from jupyter_contrib_nbextensions) (0.2.0)\n",
      "Requirement already satisfied: jupyter-nbextensions-configurator>=0.4.0 in c:\\users\\prodip\\anaconda3\\lib\\site-packages (from jupyter_contrib_nbextensions) (0.6.3)\n",
      "Requirement already satisfied: nbconvert>=6.0 in c:\\users\\prodip\\anaconda3\\lib\\site-packages (from jupyter_contrib_nbextensions) (6.5.4)\n",
      "Requirement already satisfied: notebook>=6.0 in c:\\users\\prodip\\anaconda3\\lib\\site-packages (from jupyter_contrib_nbextensions) (6.5.4)\n",
      "Requirement already satisfied: tornado in c:\\users\\prodip\\anaconda3\\lib\\site-packages (from jupyter_contrib_nbextensions) (6.3.2)\n",
      "Requirement already satisfied: traitlets>=4.1 in c:\\users\\prodip\\anaconda3\\lib\\site-packages (from jupyter_contrib_nbextensions) (5.7.1)\n",
      "Requirement already satisfied: lxml in c:\\users\\prodip\\anaconda3\\lib\\site-packages (from jupyter_contrib_nbextensions) (4.9.3)\n",
      "Requirement already satisfied: setuptools in c:\\users\\prodip\\anaconda3\\lib\\site-packages (from jupyter-contrib-core>=0.3.3->jupyter_contrib_nbextensions) (68.0.0)\n",
      "Requirement already satisfied: pyyaml in c:\\users\\prodip\\anaconda3\\lib\\site-packages (from jupyter-nbextensions-configurator>=0.4.0->jupyter_contrib_nbextensions) (6.0)\n",
      "Requirement already satisfied: beautifulsoup4 in c:\\users\\prodip\\anaconda3\\lib\\site-packages (from nbconvert>=6.0->jupyter_contrib_nbextensions) (4.12.2)\n",
      "Requirement already satisfied: bleach in c:\\users\\prodip\\anaconda3\\lib\\site-packages (from nbconvert>=6.0->jupyter_contrib_nbextensions) (4.1.0)\n",
      "Requirement already satisfied: defusedxml in c:\\users\\prodip\\anaconda3\\lib\\site-packages (from nbconvert>=6.0->jupyter_contrib_nbextensions) (0.7.1)\n",
      "Requirement already satisfied: entrypoints>=0.2.2 in c:\\users\\prodip\\anaconda3\\lib\\site-packages (from nbconvert>=6.0->jupyter_contrib_nbextensions) (0.4)\n",
      "Requirement already satisfied: jinja2>=3.0 in c:\\users\\prodip\\anaconda3\\lib\\site-packages (from nbconvert>=6.0->jupyter_contrib_nbextensions) (3.1.2)\n",
      "Requirement already satisfied: jupyterlab-pygments in c:\\users\\prodip\\anaconda3\\lib\\site-packages (from nbconvert>=6.0->jupyter_contrib_nbextensions) (0.1.2)\n",
      "Requirement already satisfied: MarkupSafe>=2.0 in c:\\users\\prodip\\anaconda3\\lib\\site-packages (from nbconvert>=6.0->jupyter_contrib_nbextensions) (2.1.1)\n",
      "Requirement already satisfied: mistune<2,>=0.8.1 in c:\\users\\prodip\\anaconda3\\lib\\site-packages (from nbconvert>=6.0->jupyter_contrib_nbextensions) (0.8.4)\n",
      "Requirement already satisfied: nbclient>=0.5.0 in c:\\users\\prodip\\anaconda3\\lib\\site-packages (from nbconvert>=6.0->jupyter_contrib_nbextensions) (0.5.13)\n",
      "Requirement already satisfied: nbformat>=5.1 in c:\\users\\prodip\\anaconda3\\lib\\site-packages (from nbconvert>=6.0->jupyter_contrib_nbextensions) (5.9.2)\n",
      "Requirement already satisfied: packaging in c:\\users\\prodip\\anaconda3\\lib\\site-packages (from nbconvert>=6.0->jupyter_contrib_nbextensions) (23.1)\n",
      "Requirement already satisfied: pandocfilters>=1.4.1 in c:\\users\\prodip\\anaconda3\\lib\\site-packages (from nbconvert>=6.0->jupyter_contrib_nbextensions) (1.5.0)\n",
      "Requirement already satisfied: pygments>=2.4.1 in c:\\users\\prodip\\anaconda3\\lib\\site-packages (from nbconvert>=6.0->jupyter_contrib_nbextensions) (2.15.1)\n",
      "Requirement already satisfied: tinycss2 in c:\\users\\prodip\\anaconda3\\lib\\site-packages (from nbconvert>=6.0->jupyter_contrib_nbextensions) (1.2.1)\n",
      "Requirement already satisfied: platformdirs>=2.5 in c:\\users\\prodip\\anaconda3\\lib\\site-packages (from jupyter-core->jupyter_contrib_nbextensions) (3.10.0)\n",
      "Requirement already satisfied: pywin32>=300 in c:\\users\\prodip\\anaconda3\\lib\\site-packages (from jupyter-core->jupyter_contrib_nbextensions) (305.1)\n",
      "Requirement already satisfied: pyzmq>=17 in c:\\users\\prodip\\anaconda3\\lib\\site-packages (from notebook>=6.0->jupyter_contrib_nbextensions) (23.2.0)\n",
      "Requirement already satisfied: argon2-cffi in c:\\users\\prodip\\anaconda3\\lib\\site-packages (from notebook>=6.0->jupyter_contrib_nbextensions) (21.3.0)\n",
      "Requirement already satisfied: jupyter-client>=5.3.4 in c:\\users\\prodip\\anaconda3\\lib\\site-packages (from notebook>=6.0->jupyter_contrib_nbextensions) (7.4.9)\n",
      "Requirement already satisfied: nest-asyncio>=1.5 in c:\\users\\prodip\\anaconda3\\lib\\site-packages (from notebook>=6.0->jupyter_contrib_nbextensions) (1.5.6)\n",
      "Requirement already satisfied: ipykernel in c:\\users\\prodip\\anaconda3\\lib\\site-packages (from notebook>=6.0->jupyter_contrib_nbextensions) (6.25.0)\n",
      "Requirement already satisfied: Send2Trash>=1.8.0 in c:\\users\\prodip\\anaconda3\\lib\\site-packages (from notebook>=6.0->jupyter_contrib_nbextensions) (1.8.0)\n",
      "Requirement already satisfied: terminado>=0.8.3 in c:\\users\\prodip\\anaconda3\\lib\\site-packages (from notebook>=6.0->jupyter_contrib_nbextensions) (0.17.1)\n",
      "Requirement already satisfied: prometheus-client in c:\\users\\prodip\\anaconda3\\lib\\site-packages (from notebook>=6.0->jupyter_contrib_nbextensions) (0.14.1)\n",
      "Requirement already satisfied: nbclassic>=0.4.7 in c:\\users\\prodip\\anaconda3\\lib\\site-packages (from notebook>=6.0->jupyter_contrib_nbextensions) (0.5.5)\n",
      "Requirement already satisfied: python-dateutil>=2.8.2 in c:\\users\\prodip\\anaconda3\\lib\\site-packages (from jupyter-client>=5.3.4->notebook>=6.0->jupyter_contrib_nbextensions) (2.8.2)\n",
      "Requirement already satisfied: jupyter-server>=1.8 in c:\\users\\prodip\\anaconda3\\lib\\site-packages (from nbclassic>=0.4.7->notebook>=6.0->jupyter_contrib_nbextensions) (1.23.4)\n",
      "Requirement already satisfied: notebook-shim>=0.1.0 in c:\\users\\prodip\\anaconda3\\lib\\site-packages (from nbclassic>=0.4.7->notebook>=6.0->jupyter_contrib_nbextensions) (0.2.2)\n",
      "Requirement already satisfied: fastjsonschema in c:\\users\\prodip\\anaconda3\\lib\\site-packages (from nbformat>=5.1->nbconvert>=6.0->jupyter_contrib_nbextensions) (2.16.2)\n",
      "Requirement already satisfied: jsonschema>=2.6 in c:\\users\\prodip\\anaconda3\\lib\\site-packages (from nbformat>=5.1->nbconvert>=6.0->jupyter_contrib_nbextensions) (4.17.3)\n",
      "Requirement already satisfied: pywinpty>=1.1.0 in c:\\users\\prodip\\anaconda3\\lib\\site-packages (from terminado>=0.8.3->notebook>=6.0->jupyter_contrib_nbextensions) (2.0.10)\n",
      "Requirement already satisfied: argon2-cffi-bindings in c:\\users\\prodip\\anaconda3\\lib\\site-packages (from argon2-cffi->notebook>=6.0->jupyter_contrib_nbextensions) (21.2.0)\n",
      "Requirement already satisfied: soupsieve>1.2 in c:\\users\\prodip\\anaconda3\\lib\\site-packages (from beautifulsoup4->nbconvert>=6.0->jupyter_contrib_nbextensions) (2.4)\n",
      "Requirement already satisfied: six>=1.9.0 in c:\\users\\prodip\\anaconda3\\lib\\site-packages (from bleach->nbconvert>=6.0->jupyter_contrib_nbextensions) (1.16.0)\n",
      "Requirement already satisfied: webencodings in c:\\users\\prodip\\anaconda3\\lib\\site-packages (from bleach->nbconvert>=6.0->jupyter_contrib_nbextensions) (0.5.1)\n",
      "Requirement already satisfied: comm>=0.1.1 in c:\\users\\prodip\\anaconda3\\lib\\site-packages (from ipykernel->notebook>=6.0->jupyter_contrib_nbextensions) (0.1.2)\n",
      "Requirement already satisfied: debugpy>=1.6.5 in c:\\users\\prodip\\anaconda3\\lib\\site-packages (from ipykernel->notebook>=6.0->jupyter_contrib_nbextensions) (1.6.7)\n",
      "Requirement already satisfied: ipython>=7.23.1 in c:\\users\\prodip\\anaconda3\\lib\\site-packages (from ipykernel->notebook>=6.0->jupyter_contrib_nbextensions) (8.15.0)\n",
      "Requirement already satisfied: matplotlib-inline>=0.1 in c:\\users\\prodip\\anaconda3\\lib\\site-packages (from ipykernel->notebook>=6.0->jupyter_contrib_nbextensions) (0.1.6)\n",
      "Requirement already satisfied: psutil in c:\\users\\prodip\\anaconda3\\lib\\site-packages (from ipykernel->notebook>=6.0->jupyter_contrib_nbextensions) (5.9.0)\n",
      "Requirement already satisfied: backcall in c:\\users\\prodip\\anaconda3\\lib\\site-packages (from ipython>=7.23.1->ipykernel->notebook>=6.0->jupyter_contrib_nbextensions) (0.2.0)\n",
      "Requirement already satisfied: decorator in c:\\users\\prodip\\anaconda3\\lib\\site-packages (from ipython>=7.23.1->ipykernel->notebook>=6.0->jupyter_contrib_nbextensions) (5.1.1)\n",
      "Requirement already satisfied: jedi>=0.16 in c:\\users\\prodip\\anaconda3\\lib\\site-packages (from ipython>=7.23.1->ipykernel->notebook>=6.0->jupyter_contrib_nbextensions) (0.18.1)\n",
      "Requirement already satisfied: pickleshare in c:\\users\\prodip\\anaconda3\\lib\\site-packages (from ipython>=7.23.1->ipykernel->notebook>=6.0->jupyter_contrib_nbextensions) (0.7.5)\n",
      "Requirement already satisfied: prompt-toolkit!=3.0.37,<3.1.0,>=3.0.30 in c:\\users\\prodip\\anaconda3\\lib\\site-packages (from ipython>=7.23.1->ipykernel->notebook>=6.0->jupyter_contrib_nbextensions) (3.0.36)\n",
      "Requirement already satisfied: stack-data in c:\\users\\prodip\\anaconda3\\lib\\site-packages (from ipython>=7.23.1->ipykernel->notebook>=6.0->jupyter_contrib_nbextensions) (0.2.0)\n",
      "Requirement already satisfied: colorama in c:\\users\\prodip\\anaconda3\\lib\\site-packages (from ipython>=7.23.1->ipykernel->notebook>=6.0->jupyter_contrib_nbextensions) (0.4.6)\n",
      "Requirement already satisfied: attrs>=17.4.0 in c:\\users\\prodip\\anaconda3\\lib\\site-packages (from jsonschema>=2.6->nbformat>=5.1->nbconvert>=6.0->jupyter_contrib_nbextensions) (22.1.0)\n",
      "Requirement already satisfied: pyrsistent!=0.17.0,!=0.17.1,!=0.17.2,>=0.14.0 in c:\\users\\prodip\\anaconda3\\lib\\site-packages (from jsonschema>=2.6->nbformat>=5.1->nbconvert>=6.0->jupyter_contrib_nbextensions) (0.18.0)\n",
      "Requirement already satisfied: anyio<4,>=3.1.0 in c:\\users\\prodip\\anaconda3\\lib\\site-packages (from jupyter-server>=1.8->nbclassic>=0.4.7->notebook>=6.0->jupyter_contrib_nbextensions) (3.5.0)\n",
      "Requirement already satisfied: websocket-client in c:\\users\\prodip\\anaconda3\\lib\\site-packages (from jupyter-server>=1.8->nbclassic>=0.4.7->notebook>=6.0->jupyter_contrib_nbextensions) (0.58.0)\n",
      "Requirement already satisfied: cffi>=1.0.1 in c:\\users\\prodip\\anaconda3\\lib\\site-packages (from argon2-cffi-bindings->argon2-cffi->notebook>=6.0->jupyter_contrib_nbextensions) (1.15.1)\n",
      "Requirement already satisfied: idna>=2.8 in c:\\users\\prodip\\anaconda3\\lib\\site-packages (from anyio<4,>=3.1.0->jupyter-server>=1.8->nbclassic>=0.4.7->notebook>=6.0->jupyter_contrib_nbextensions) (3.4)\n",
      "Requirement already satisfied: sniffio>=1.1 in c:\\users\\prodip\\anaconda3\\lib\\site-packages (from anyio<4,>=3.1.0->jupyter-server>=1.8->nbclassic>=0.4.7->notebook>=6.0->jupyter_contrib_nbextensions) (1.2.0)\n",
      "Requirement already satisfied: pycparser in c:\\users\\prodip\\anaconda3\\lib\\site-packages (from cffi>=1.0.1->argon2-cffi-bindings->argon2-cffi->notebook>=6.0->jupyter_contrib_nbextensions) (2.21)\n",
      "Requirement already satisfied: parso<0.9.0,>=0.8.0 in c:\\users\\prodip\\anaconda3\\lib\\site-packages (from jedi>=0.16->ipython>=7.23.1->ipykernel->notebook>=6.0->jupyter_contrib_nbextensions) (0.8.3)\n",
      "Requirement already satisfied: wcwidth in c:\\users\\prodip\\anaconda3\\lib\\site-packages (from prompt-toolkit!=3.0.37,<3.1.0,>=3.0.30->ipython>=7.23.1->ipykernel->notebook>=6.0->jupyter_contrib_nbextensions) (0.2.5)\n",
      "Requirement already satisfied: executing in c:\\users\\prodip\\anaconda3\\lib\\site-packages (from stack-data->ipython>=7.23.1->ipykernel->notebook>=6.0->jupyter_contrib_nbextensions) (0.8.3)\n",
      "Requirement already satisfied: asttokens in c:\\users\\prodip\\anaconda3\\lib\\site-packages (from stack-data->ipython>=7.23.1->ipykernel->notebook>=6.0->jupyter_contrib_nbextensions) (2.0.5)\n",
      "Requirement already satisfied: pure-eval in c:\\users\\prodip\\anaconda3\\lib\\site-packages (from stack-data->ipython>=7.23.1->ipykernel->notebook>=6.0->jupyter_contrib_nbextensions) (0.2.2)\n",
      "Note: you may need to restart the kernel to use updated packages.\n"
     ]
    }
   ],
   "source": [
    "pip install jupyter_contrib_nbextensions"
   ]
  },
  {
   "cell_type": "code",
   "execution_count": 3,
   "id": "ed41dbd5",
   "metadata": {},
   "outputs": [
    {
     "name": "stdout",
     "output_type": "stream",
     "text": [
      "Requirement already satisfied: yapf in c:\\users\\prodip\\anaconda3\\lib\\site-packages (0.31.0)Note: you may need to restart the kernel to use updated packages.\n",
      "\n"
     ]
    }
   ],
   "source": [
    "pip install yapf"
   ]
  },
  {
   "cell_type": "code",
   "execution_count": 4,
   "id": "412b1a40",
   "metadata": {},
   "outputs": [
    {
     "name": "stdout",
     "output_type": "stream",
     "text": [
      "Enter the day you want to convert: 389\n",
      "389 is 1 year 12 months 0 days\n"
     ]
    }
   ],
   "source": [
    "\n",
    "days = int(input(\"Enter the day you want to convert: \"))\n",
    "year = days//365\n",
    "#month = (days%365)//12\n",
    "month = days//30\n",
    "day = (days%365)%12\n",
    "\n",
    "print(days,\"is\",year,\"year\",month,\"months\",day,\"days\")"
   ]
  },
  {
   "cell_type": "code",
   "execution_count": 9,
   "id": "2a2a23a4",
   "metadata": {},
   "outputs": [
    {
     "name": "stdout",
     "output_type": "stream",
     "text": [
      "Enter a message: Hello Prodip Das\n",
      "number of words are: 3\n"
     ]
    }
   ],
   "source": [
    "text = input(\"Enter a message: \")\n",
    "\n",
    "#words_List = text.replace(\" \",\"\") # use of charecter counting \n",
    "words_List = text.split(\" \")       # use for word counting\n",
    "\n",
    "#print(\"number of words are:\",len(words_List))\n",
    "print(\"number of words are:\",len(words_List))"
   ]
  },
  {
   "cell_type": "code",
   "execution_count": 15,
   "id": "2d1383a6",
   "metadata": {},
   "outputs": [
    {
     "ename": "TypeError",
     "evalue": "'int' object is not iterable",
     "output_type": "error",
     "traceback": [
      "\u001b[1;31m---------------------------------------------------------------------------\u001b[0m",
      "\u001b[1;31mTypeError\u001b[0m                                 Traceback (most recent call last)",
      "Cell \u001b[1;32mIn[15], line 3\u001b[0m\n\u001b[0;32m      1\u001b[0m \u001b[38;5;28mlist\u001b[39m, sum1 \u001b[38;5;241m=\u001b[39m[\u001b[38;5;241m-\u001b[39m\u001b[38;5;241m10\u001b[39m,\u001b[38;5;241m10\u001b[39m,\u001b[38;5;241m0\u001b[39m,\u001b[38;5;241m4\u001b[39m,\u001b[38;5;241m-\u001b[39m\u001b[38;5;241m1\u001b[39m,\u001b[38;5;241m-\u001b[39m\u001b[38;5;241m3\u001b[39m,\u001b[38;5;241m-\u001b[39m\u001b[38;5;241m3\u001b[39m,\u001b[38;5;241m24\u001b[39m,\u001b[38;5;241m2\u001b[39m],\u001b[38;5;241m0\u001b[39m\n\u001b[0;32m      2\u001b[0m i\u001b[38;5;241m=\u001b[39m\u001b[38;5;241m0\u001b[39m\n\u001b[1;32m----> 3\u001b[0m \u001b[38;5;28;01mfor\u001b[39;00m i \u001b[38;5;129;01min\u001b[39;00m sum1:\n\u001b[0;32m      4\u001b[0m     \u001b[38;5;28;01mif\u001b[39;00m i\u001b[38;5;241m>\u001b[39m\u001b[38;5;241m0\u001b[39m:\n\u001b[0;32m      5\u001b[0m         sum1 \u001b[38;5;241m+\u001b[39m\u001b[38;5;241m=\u001b[39m i\n",
      "\u001b[1;31mTypeError\u001b[0m: 'int' object is not iterable"
     ]
    }
   ],
   "source": [
    "\n",
    "list, sum1 =[-10,10,0,4,-1,-3,-3,24,2],0\n",
    "i=0\n",
    "for i in sum1:\n",
    "    if i>0:\n",
    "        sum1 += i\n",
    "        print(\"sums of the positive number is:\", sum1)"
   ]
  },
  {
   "cell_type": "code",
   "execution_count": 11,
   "id": "0becfdeb",
   "metadata": {},
   "outputs": [
    {
     "ename": "TypeError",
     "evalue": "'>' not supported between instances of 'list' and 'int'",
     "output_type": "error",
     "traceback": [
      "\u001b[1;31m---------------------------------------------------------------------------\u001b[0m",
      "\u001b[1;31mTypeError\u001b[0m                                 Traceback (most recent call last)",
      "Cell \u001b[1;32mIn[11], line 2\u001b[0m\n\u001b[0;32m      1\u001b[0m num1 \u001b[38;5;241m=\u001b[39m[\u001b[38;5;241m-\u001b[39m\u001b[38;5;241m10\u001b[39m,\u001b[38;5;241m10\u001b[39m,\u001b[38;5;241m0\u001b[39m,\u001b[38;5;241m4\u001b[39m,\u001b[38;5;241m-\u001b[39m\u001b[38;5;241m1\u001b[39m,\u001b[38;5;241m-\u001b[39m\u001b[38;5;241m3\u001b[39m,\u001b[38;5;241m-\u001b[39m\u001b[38;5;241m3\u001b[39m,\u001b[38;5;241m24\u001b[39m,\u001b[38;5;241m2\u001b[39m]\n\u001b[1;32m----> 2\u001b[0m \u001b[38;5;28;01mif\u001b[39;00m (num1\u001b[38;5;241m>\u001b[39m\u001b[38;5;241m0\u001b[39m):\n\u001b[0;32m      3\u001b[0m     num1 \u001b[38;5;241m+\u001b[39m\u001b[38;5;241m=\u001b[39m i\n\u001b[0;32m      4\u001b[0m     \u001b[38;5;28mprint\u001b[39m(\u001b[38;5;124m'\u001b[39m\u001b[38;5;124msumation is \u001b[39m\u001b[38;5;124m'\u001b[39m, num1)\n",
      "\u001b[1;31mTypeError\u001b[0m: '>' not supported between instances of 'list' and 'int'"
     ]
    }
   ],
   "source": [
    "num1 =[-10,10,0,4,-1,-3,-3,24,2]\n",
    "if (num1 > 0):\n",
    "    num1 += i\n",
    "    print('sumation is ', num1)"
   ]
  },
  {
   "cell_type": "code",
   "execution_count": 16,
   "id": "0697789e",
   "metadata": {},
   "outputs": [
    {
     "ename": "TypeError",
     "evalue": "'int' object is not iterable",
     "output_type": "error",
     "traceback": [
      "\u001b[1;31m---------------------------------------------------------------------------\u001b[0m",
      "\u001b[1;31mTypeError\u001b[0m                                 Traceback (most recent call last)",
      "Cell \u001b[1;32mIn[16], line 3\u001b[0m\n\u001b[0;32m      1\u001b[0m \u001b[38;5;28msum\u001b[39m \u001b[38;5;241m=\u001b[39m [\u001b[38;5;241m-\u001b[39m\u001b[38;5;241m10\u001b[39m,\u001b[38;5;241m10\u001b[39m,\u001b[38;5;241m0\u001b[39m,\u001b[38;5;241m4\u001b[39m,\u001b[38;5;241m-\u001b[39m\u001b[38;5;241m1\u001b[39m,\u001b[38;5;241m-\u001b[39m\u001b[38;5;241m3\u001b[39m,\u001b[38;5;241m-\u001b[39m\u001b[38;5;241m3\u001b[39m,\u001b[38;5;241m24\u001b[39m,\u001b[38;5;241m2\u001b[39m]\n\u001b[0;32m      2\u001b[0m List \u001b[38;5;241m=\u001b[39m \u001b[38;5;241m0\u001b[39m\n\u001b[1;32m----> 3\u001b[0m \u001b[38;5;28;01mfor\u001b[39;00m i \u001b[38;5;129;01min\u001b[39;00m List:\n\u001b[0;32m      4\u001b[0m     \u001b[38;5;28;01mif\u001b[39;00m i\u001b[38;5;241m>\u001b[39m\u001b[38;5;241m0\u001b[39m:\n\u001b[0;32m      5\u001b[0m         \u001b[38;5;28msum\u001b[39m \u001b[38;5;241m+\u001b[39m\u001b[38;5;241m=\u001b[39m i\n",
      "\u001b[1;31mTypeError\u001b[0m: 'int' object is not iterable"
     ]
    }
   ],
   "source": [
    "sum = [-10,10,0,4,-1,-3,-3,24,2]\n",
    "List = 0\n",
    "for i in List:\n",
    "    if i>0:\n",
    "        sum += i\n",
    "        print(\"sum of the positive number is:\",sum)"
   ]
  },
  {
   "cell_type": "code",
   "execution_count": 28,
   "id": "23047d2c",
   "metadata": {},
   "outputs": [
    {
     "name": "stdout",
     "output_type": "stream",
     "text": [
      "Sum of all numbers in the list: -35\n"
     ]
    }
   ],
   "source": [
    "# Given list of integers\n",
    "my_list = [10, 10, 0, -4, -1, -3, -3, 24, 2]\n",
    "\n",
    "# Initialize a variable to store the sum\n",
    "sum_var = 0\n",
    "\n",
    "# Iterate through the list and add each element to the sum\n",
    "for num in my_list:\n",
    "       \n",
    "    sum_var += num\n",
    "\n",
    "# Print the final sum\n",
    "print(\"Sum of all numbers in the list:\", sum_var)\n"
   ]
  },
  {
   "cell_type": "code",
   "execution_count": 34,
   "id": "f631931b",
   "metadata": {},
   "outputs": [
    {
     "ename": "SyntaxError",
     "evalue": "invalid syntax. Perhaps you forgot a comma? (2531394793.py, line 4)",
     "output_type": "error",
     "traceback": [
      "\u001b[1;36m  Cell \u001b[1;32mIn[34], line 4\u001b[1;36m\u001b[0m\n\u001b[1;33m    print('index is' {index_num} 'and fruit name is' {fruits['index_num']})\u001b[0m\n\u001b[1;37m          ^\u001b[0m\n\u001b[1;31mSyntaxError\u001b[0m\u001b[1;31m:\u001b[0m invalid syntax. Perhaps you forgot a comma?\n"
     ]
    }
   ],
   "source": [
    "# Create a list of fruits and access elements using indexing\n",
    "fruits = ['apple', 'banana', 'lici', 'tomato']\n",
    "index_num = int(input('Enter index number ofr accessing the fruits:'  ))\n",
    "print('index is' {index_num} 'and fruit name is' {fruits['index_num']})"
   ]
  },
  {
   "cell_type": "code",
   "execution_count": 36,
   "id": "a06305d4",
   "metadata": {},
   "outputs": [
    {
     "name": "stdout",
     "output_type": "stream",
     "text": [
      "number of f:1\n",
      "banana\n"
     ]
    }
   ],
   "source": [
    "flist = ['apple', 'banana', 'lici', 'tomato']\n",
    "index = int(input(\"number of f:\" ))\n",
    "print(flist[index])"
   ]
  },
  {
   "cell_type": "code",
   "execution_count": 39,
   "id": "8957414e",
   "metadata": {},
   "outputs": [],
   "source": [
    "m_list = [10, 10, 24, 2]"
   ]
  },
  {
   "cell_type": "code",
   "execution_count": 44,
   "id": "ab9c398a",
   "metadata": {},
   "outputs": [
    {
     "ename": "TypeError",
     "evalue": "'int' object is not iterable",
     "output_type": "error",
     "traceback": [
      "\u001b[1;31m---------------------------------------------------------------------------\u001b[0m",
      "\u001b[1;31mTypeError\u001b[0m                                 Traceback (most recent call last)",
      "Cell \u001b[1;32mIn[44], line 4\u001b[0m\n\u001b[0;32m      2\u001b[0m \u001b[38;5;28msum\u001b[39m \u001b[38;5;241m=\u001b[39m \u001b[38;5;241m0\u001b[39m\n\u001b[0;32m      3\u001b[0m \u001b[38;5;28;01mfor\u001b[39;00m num \u001b[38;5;129;01min\u001b[39;00m \u001b[38;5;28mlist\u001b[39m:\n\u001b[1;32m----> 4\u001b[0m     \u001b[38;5;28mlist\u001b[39m \u001b[38;5;241m+\u001b[39m\u001b[38;5;241m=\u001b[39m num\n\u001b[0;32m      5\u001b[0m     \u001b[38;5;28mprint\u001b[39m(\u001b[38;5;124m'\u001b[39m\u001b[38;5;124msum of \u001b[39m\u001b[38;5;124m'\u001b[39m, \u001b[38;5;28msum\u001b[39m)\n",
      "\u001b[1;31mTypeError\u001b[0m: 'int' object is not iterable"
     ]
    }
   ],
   "source": [
    "num = [10, 10, 24, 2]\n",
    "sum = 0\n",
    "for num in list:\n",
    "    list += num\n",
    "    print('sum of ', sum)"
   ]
  },
  {
   "cell_type": "code",
   "execution_count": 48,
   "id": "53015d24",
   "metadata": {},
   "outputs": [
    {
     "name": "stdout",
     "output_type": "stream",
     "text": [
      "46\n",
      "average is 11.5\n"
     ]
    }
   ],
   "source": [
    "num = [10, 10, 24, 2]\n",
    "sum = 0\n",
    "average = 0.0\n",
    "for i in num:\n",
    "    sum += i\n",
    "print(sum)\n",
    "print('average is', sum/len(num))"
   ]
  },
  {
   "cell_type": "code",
   "execution_count": null,
   "id": "2315c09b",
   "metadata": {},
   "outputs": [],
   "source": [
    "#write a program in reverse word\n",
    "\n",
    "def rev(s):\n",
    "    rev[] = rev[::-1]\n",
    "    retun "
   ]
  }
 ],
 "metadata": {
  "kernelspec": {
   "display_name": "Python 3 (ipykernel)",
   "language": "python",
   "name": "python3"
  },
  "language_info": {
   "codemirror_mode": {
    "name": "ipython",
    "version": 3
   },
   "file_extension": ".py",
   "mimetype": "text/x-python",
   "name": "python",
   "nbconvert_exporter": "python",
   "pygments_lexer": "ipython3",
   "version": "3.11.5"
  }
 },
 "nbformat": 4,
 "nbformat_minor": 5
}
